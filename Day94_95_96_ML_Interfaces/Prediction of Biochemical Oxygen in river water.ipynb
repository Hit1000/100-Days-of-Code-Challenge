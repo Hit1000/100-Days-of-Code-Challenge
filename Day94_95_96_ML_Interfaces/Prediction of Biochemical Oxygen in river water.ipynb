{
 "cells": [
  {
   "cell_type": "markdown",
   "metadata": {
    "hide_input": false
   },
   "source": [
    "## Classification of river water using Biochemical Oxygen Demand\n",
    "\n",
    "Predicting BOD in river water on the monitoring stations data\n",
    "\n",
    "## About the Dataset \n",
    "\n",
    "* This dataset has data of the amount of biochemical oxygen demand, which is determined in 5 days (\"BOD5\" or \"BOD\"), in river water.\n",
    "* There are 8 consecutive stations of the state water monitoring system. It's should predict the value in the eighth station by the first seven stations. The numbering of stations in the dataset is done from the target station upstream, ie closest to it - first, upstream - second, etc.\n",
    "* Data are average monthly. The number of observations on stations is different (from 4 to about 20 years).\n",
    "* Training and test data are chosen so that the percentage of non-NA values on stations with long and short series data is approximately the same. \n",
    "\n",
    "## Indicators of river water quality in this dataset are:\n",
    "\n",
    "    Dissolved oxygen (O2) is measured in mgO2/cub. dm (ie milligrams of oxygen (O2) in the cubic decimeter);\n",
    "\n",
    "    Ammonium ions (NH4) concentration is measured in mg/cub. dm (ie milligrams in the cubic decimeter);\n",
    "\n",
    "    Nitrite ions (NO2) concentration is measured in mg/cub. dm (ie milligrams in the cubic decimeter);\n",
    "\n",
    "    Nitrate ions (NO3) concentration is measured in mg/cub. dm (ie milligrams in the cubic decimeter);\n",
    "\n",
    "    Biochemical oxygen demand, which is determined in 5 days (\"BOD5\" or \"BOD\"). BOD5 is measured in mgO/cub. dm (ie milligrams of oxygen in the cubic decimeter).\n",
    "\n",
    "\n",
    "**The maximum permissible value of BOD in Ukraine is 3 mgO/cub. dm.**\n",
    "\n",
    "### Columns in the Dataset\n",
    "* **Id** - the unique id of a given monthly averaged data;\n",
    "\n",
    "* **target** - a values of monthly averaged data of BOD in target station, mgO/cub. dm;\n",
    "\n",
    "* **1-7** - a values of monthly averaged data of BOD in stations 1-7 (in seven stations located from the target station upstream), mgO/cub. dm.\n",
    "\n",
    "\n",
    "## Inspiration \n",
    "\n",
    "1. Analysis of data dependences, including EDA.\n",
    "2. Prediction the target data (water quaity in the target station) with the highest accuracy.\n",
    "3. Analysis of impact on the prediction accuracy of the first two stations (1-2) and the next five (3-7) stations separately"
   ]
  },
  {
   "cell_type": "markdown",
   "metadata": {},
   "source": [
    "## Importing the necessary libraries for the project"
   ]
  },
  {
   "cell_type": "code",
   "execution_count": 20,
   "metadata": {
    "ExecuteTime": {
     "end_time": "2020-09-21T10:05:20.691596Z",
     "start_time": "2020-09-21T10:05:20.670198Z"
    }
   },
   "outputs": [],
   "source": [
    "import pandas as pd   # Adds data structures and tools designed to work with table-like data\n",
    "import numpy as np   # Used for multidimensional arrays and matrices as well as statistical operations\n",
    "import matplotlib.pyplot as plt  # Provides 2D plotting functions\n",
    "import seaborn as sns  # Provides high level interface for drawing attractive statistical graphic"
   ]
  },
  {
   "cell_type": "markdown",
   "metadata": {},
   "source": [
    "## Loading the Data Set (Using Pandas)"
   ]
  },
  {
   "cell_type": "code",
   "execution_count": 21,
   "metadata": {
    "ExecuteTime": {
     "end_time": "2020-09-21T10:05:21.035367Z",
     "start_time": "2020-09-21T10:05:21.002516Z"
    },
    "scrolled": true
   },
   "outputs": [
    {
     "data": {
      "text/html": [
       "<div>\n",
       "<style scoped>\n",
       "    .dataframe tbody tr th:only-of-type {\n",
       "        vertical-align: middle;\n",
       "    }\n",
       "\n",
       "    .dataframe tbody tr th {\n",
       "        vertical-align: top;\n",
       "    }\n",
       "\n",
       "    .dataframe thead th {\n",
       "        text-align: right;\n",
       "    }\n",
       "</style>\n",
       "<table border=\"1\" class=\"dataframe\">\n",
       "  <thead>\n",
       "    <tr style=\"text-align: right;\">\n",
       "      <th></th>\n",
       "      <th>Id</th>\n",
       "      <th>target</th>\n",
       "      <th>1</th>\n",
       "      <th>2</th>\n",
       "      <th>3</th>\n",
       "      <th>4</th>\n",
       "      <th>5</th>\n",
       "      <th>6</th>\n",
       "      <th>7</th>\n",
       "    </tr>\n",
       "  </thead>\n",
       "  <tbody>\n",
       "    <tr>\n",
       "      <td>0</td>\n",
       "      <td>0</td>\n",
       "      <td>5.85</td>\n",
       "      <td>4.80</td>\n",
       "      <td>5.85</td>\n",
       "      <td>NaN</td>\n",
       "      <td>NaN</td>\n",
       "      <td>NaN</td>\n",
       "      <td>NaN</td>\n",
       "      <td>NaN</td>\n",
       "    </tr>\n",
       "    <tr>\n",
       "      <td>1</td>\n",
       "      <td>3</td>\n",
       "      <td>4.28</td>\n",
       "      <td>5.88</td>\n",
       "      <td>6.84</td>\n",
       "      <td>NaN</td>\n",
       "      <td>NaN</td>\n",
       "      <td>NaN</td>\n",
       "      <td>NaN</td>\n",
       "      <td>NaN</td>\n",
       "    </tr>\n",
       "    <tr>\n",
       "      <td>2</td>\n",
       "      <td>4</td>\n",
       "      <td>3.97</td>\n",
       "      <td>3.20</td>\n",
       "      <td>2.70</td>\n",
       "      <td>NaN</td>\n",
       "      <td>NaN</td>\n",
       "      <td>NaN</td>\n",
       "      <td>NaN</td>\n",
       "      <td>NaN</td>\n",
       "    </tr>\n",
       "    <tr>\n",
       "      <td>3</td>\n",
       "      <td>5</td>\n",
       "      <td>5.95</td>\n",
       "      <td>7.70</td>\n",
       "      <td>7.06</td>\n",
       "      <td>NaN</td>\n",
       "      <td>NaN</td>\n",
       "      <td>NaN</td>\n",
       "      <td>NaN</td>\n",
       "      <td>NaN</td>\n",
       "    </tr>\n",
       "    <tr>\n",
       "      <td>4</td>\n",
       "      <td>6</td>\n",
       "      <td>4.70</td>\n",
       "      <td>5.50</td>\n",
       "      <td>5.30</td>\n",
       "      <td>NaN</td>\n",
       "      <td>NaN</td>\n",
       "      <td>NaN</td>\n",
       "      <td>NaN</td>\n",
       "      <td>NaN</td>\n",
       "    </tr>\n",
       "  </tbody>\n",
       "</table>\n",
       "</div>"
      ],
      "text/plain": [
       "   Id  target     1     2   3   4   5   6   7\n",
       "0   0    5.85  4.80  5.85 NaN NaN NaN NaN NaN\n",
       "1   3    4.28  5.88  6.84 NaN NaN NaN NaN NaN\n",
       "2   4    3.97  3.20  2.70 NaN NaN NaN NaN NaN\n",
       "3   5    5.95  7.70  7.06 NaN NaN NaN NaN NaN\n",
       "4   6    4.70  5.50  5.30 NaN NaN NaN NaN NaN"
      ]
     },
     "execution_count": 21,
     "metadata": {},
     "output_type": "execute_result"
    }
   ],
   "source": [
    "df_bod = pd.read_csv('BOD_Ukraine.csv')\n",
    "\n",
    "# Printing the first 5 rows of the dataset\n",
    "df_bod.head()"
   ]
  },
  {
   "cell_type": "markdown",
   "metadata": {},
   "source": [
    "We won't need an ID column for our prediction"
   ]
  },
  {
   "cell_type": "code",
   "execution_count": 22,
   "metadata": {
    "ExecuteTime": {
     "end_time": "2020-09-21T10:05:21.383442Z",
     "start_time": "2020-09-21T10:05:21.374383Z"
    }
   },
   "outputs": [],
   "source": [
    "# Dropping the Id Column, since it doesn't contribute anything to our analysis\n",
    "df_bod.drop(columns=['Id'],inplace=True)\n",
    "# df_test.drop(columns=['Id'],inplace=True)"
   ]
  },
  {
   "cell_type": "code",
   "execution_count": 23,
   "metadata": {
    "ExecuteTime": {
     "end_time": "2020-09-21T10:05:21.595760Z",
     "start_time": "2020-09-21T10:05:21.525512Z"
    }
   },
   "outputs": [
    {
     "data": {
      "text/html": [
       "<div>\n",
       "<style scoped>\n",
       "    .dataframe tbody tr th:only-of-type {\n",
       "        vertical-align: middle;\n",
       "    }\n",
       "\n",
       "    .dataframe tbody tr th {\n",
       "        vertical-align: top;\n",
       "    }\n",
       "\n",
       "    .dataframe thead th {\n",
       "        text-align: right;\n",
       "    }\n",
       "</style>\n",
       "<table border=\"1\" class=\"dataframe\">\n",
       "  <thead>\n",
       "    <tr style=\"text-align: right;\">\n",
       "      <th></th>\n",
       "      <th>target</th>\n",
       "      <th>1</th>\n",
       "      <th>2</th>\n",
       "      <th>3</th>\n",
       "      <th>4</th>\n",
       "      <th>5</th>\n",
       "      <th>6</th>\n",
       "      <th>7</th>\n",
       "    </tr>\n",
       "  </thead>\n",
       "  <tbody>\n",
       "    <tr>\n",
       "      <td>count</td>\n",
       "      <td>147.000000</td>\n",
       "      <td>145.000000</td>\n",
       "      <td>145.000000</td>\n",
       "      <td>32.000000</td>\n",
       "      <td>31.000000</td>\n",
       "      <td>33.000000</td>\n",
       "      <td>37.000000</td>\n",
       "      <td>37.000000</td>\n",
       "    </tr>\n",
       "    <tr>\n",
       "      <td>mean</td>\n",
       "      <td>5.021633</td>\n",
       "      <td>4.972621</td>\n",
       "      <td>4.906552</td>\n",
       "      <td>4.665000</td>\n",
       "      <td>5.871613</td>\n",
       "      <td>8.678788</td>\n",
       "      <td>3.883784</td>\n",
       "      <td>3.957568</td>\n",
       "    </tr>\n",
       "    <tr>\n",
       "      <td>std</td>\n",
       "      <td>2.122535</td>\n",
       "      <td>2.044076</td>\n",
       "      <td>2.001357</td>\n",
       "      <td>2.057429</td>\n",
       "      <td>2.555247</td>\n",
       "      <td>5.299119</td>\n",
       "      <td>1.615455</td>\n",
       "      <td>1.916953</td>\n",
       "    </tr>\n",
       "    <tr>\n",
       "      <td>min</td>\n",
       "      <td>1.300000</td>\n",
       "      <td>0.900000</td>\n",
       "      <td>1.040000</td>\n",
       "      <td>2.040000</td>\n",
       "      <td>2.480000</td>\n",
       "      <td>2.880000</td>\n",
       "      <td>1.000000</td>\n",
       "      <td>1.600000</td>\n",
       "    </tr>\n",
       "    <tr>\n",
       "      <td>25%</td>\n",
       "      <td>3.720000</td>\n",
       "      <td>3.500000</td>\n",
       "      <td>3.400000</td>\n",
       "      <td>3.325000</td>\n",
       "      <td>4.445000</td>\n",
       "      <td>5.840000</td>\n",
       "      <td>2.900000</td>\n",
       "      <td>2.900000</td>\n",
       "    </tr>\n",
       "    <tr>\n",
       "      <td>50%</td>\n",
       "      <td>4.600000</td>\n",
       "      <td>4.800000</td>\n",
       "      <td>4.830000</td>\n",
       "      <td>4.150000</td>\n",
       "      <td>5.500000</td>\n",
       "      <td>7.300000</td>\n",
       "      <td>3.400000</td>\n",
       "      <td>3.500000</td>\n",
       "    </tr>\n",
       "    <tr>\n",
       "      <td>75%</td>\n",
       "      <td>6.275000</td>\n",
       "      <td>6.450000</td>\n",
       "      <td>6.200000</td>\n",
       "      <td>5.970000</td>\n",
       "      <td>6.400000</td>\n",
       "      <td>8.420000</td>\n",
       "      <td>4.800000</td>\n",
       "      <td>4.400000</td>\n",
       "    </tr>\n",
       "    <tr>\n",
       "      <td>max</td>\n",
       "      <td>11.700000</td>\n",
       "      <td>10.900000</td>\n",
       "      <td>11.000000</td>\n",
       "      <td>10.660000</td>\n",
       "      <td>14.790000</td>\n",
       "      <td>27.120000</td>\n",
       "      <td>8.540000</td>\n",
       "      <td>10.370000</td>\n",
       "    </tr>\n",
       "  </tbody>\n",
       "</table>\n",
       "</div>"
      ],
      "text/plain": [
       "           target           1           2          3          4          5  \\\n",
       "count  147.000000  145.000000  145.000000  32.000000  31.000000  33.000000   \n",
       "mean     5.021633    4.972621    4.906552   4.665000   5.871613   8.678788   \n",
       "std      2.122535    2.044076    2.001357   2.057429   2.555247   5.299119   \n",
       "min      1.300000    0.900000    1.040000   2.040000   2.480000   2.880000   \n",
       "25%      3.720000    3.500000    3.400000   3.325000   4.445000   5.840000   \n",
       "50%      4.600000    4.800000    4.830000   4.150000   5.500000   7.300000   \n",
       "75%      6.275000    6.450000    6.200000   5.970000   6.400000   8.420000   \n",
       "max     11.700000   10.900000   11.000000  10.660000  14.790000  27.120000   \n",
       "\n",
       "               6          7  \n",
       "count  37.000000  37.000000  \n",
       "mean    3.883784   3.957568  \n",
       "std     1.615455   1.916953  \n",
       "min     1.000000   1.600000  \n",
       "25%     2.900000   2.900000  \n",
       "50%     3.400000   3.500000  \n",
       "75%     4.800000   4.400000  \n",
       "max     8.540000  10.370000  "
      ]
     },
     "execution_count": 23,
     "metadata": {},
     "output_type": "execute_result"
    }
   ],
   "source": [
    "# To give the overall description of the dataset\n",
    "df_bod.describe()"
   ]
  },
  {
   "cell_type": "code",
   "execution_count": 24,
   "metadata": {
    "ExecuteTime": {
     "end_time": "2020-09-21T10:05:21.799099Z",
     "start_time": "2020-09-21T10:05:21.763956Z"
    },
    "scrolled": true
   },
   "outputs": [
    {
     "name": "stdout",
     "output_type": "stream",
     "text": [
      "<class 'pandas.core.frame.DataFrame'>\n",
      "RangeIndex: 147 entries, 0 to 146\n",
      "Data columns (total 8 columns):\n",
      "target    147 non-null float64\n",
      "1         145 non-null float64\n",
      "2         145 non-null float64\n",
      "3         32 non-null float64\n",
      "4         31 non-null float64\n",
      "5         33 non-null float64\n",
      "6         37 non-null float64\n",
      "7         37 non-null float64\n",
      "dtypes: float64(8)\n",
      "memory usage: 9.3 KB\n"
     ]
    }
   ],
   "source": [
    "# To Display the Overall information of the dataset\n",
    "df_bod.info()"
   ]
  },
  {
   "cell_type": "code",
   "execution_count": 25,
   "metadata": {
    "ExecuteTime": {
     "end_time": "2020-09-21T10:05:21.987207Z",
     "start_time": "2020-09-21T10:05:21.967355Z"
    }
   },
   "outputs": [
    {
     "data": {
      "text/plain": [
       "Index(['target', '1', '2', '3', '4', '5', '6', '7'], dtype='object')"
      ]
     },
     "execution_count": 25,
     "metadata": {},
     "output_type": "execute_result"
    }
   ],
   "source": [
    "# Displaying the columns of the dataset\n",
    "df_bod.columns"
   ]
  },
  {
   "cell_type": "code",
   "execution_count": 26,
   "metadata": {
    "ExecuteTime": {
     "end_time": "2020-09-21T10:05:22.189255Z",
     "start_time": "2020-09-21T10:05:22.177431Z"
    },
    "scrolled": true
   },
   "outputs": [
    {
     "name": "stdout",
     "output_type": "stream",
     "text": [
      "Shape of DataSet:  (147, 8)\n"
     ]
    }
   ],
   "source": [
    "# Displaying the shape of the dataset \n",
    "print(\"Shape of DataSet: \", df_bod.shape)\n",
    "# print(\"Shape of Test Data: \", df_test.shape)"
   ]
  },
  {
   "cell_type": "markdown",
   "metadata": {},
   "source": [
    "<hr>\n",
    "\n",
    "## Feature Extraction and Visual Analysis of the Dataset"
   ]
  },
  {
   "cell_type": "markdown",
   "metadata": {},
   "source": [
    "### Making a Correlation Matrix\n",
    "\n",
    "It is a table showing correlation coefficients between variables."
   ]
  },
  {
   "cell_type": "code",
   "execution_count": 27,
   "metadata": {
    "ExecuteTime": {
     "end_time": "2020-09-21T10:05:22.704538Z",
     "start_time": "2020-09-21T10:05:22.648418Z"
    }
   },
   "outputs": [
    {
     "data": {
      "text/html": [
       "<div>\n",
       "<style scoped>\n",
       "    .dataframe tbody tr th:only-of-type {\n",
       "        vertical-align: middle;\n",
       "    }\n",
       "\n",
       "    .dataframe tbody tr th {\n",
       "        vertical-align: top;\n",
       "    }\n",
       "\n",
       "    .dataframe thead th {\n",
       "        text-align: right;\n",
       "    }\n",
       "</style>\n",
       "<table border=\"1\" class=\"dataframe\">\n",
       "  <thead>\n",
       "    <tr style=\"text-align: right;\">\n",
       "      <th></th>\n",
       "      <th>1</th>\n",
       "      <th>2</th>\n",
       "      <th>3</th>\n",
       "      <th>4</th>\n",
       "      <th>5</th>\n",
       "      <th>6</th>\n",
       "      <th>7</th>\n",
       "    </tr>\n",
       "  </thead>\n",
       "  <tbody>\n",
       "    <tr>\n",
       "      <td>1</td>\n",
       "      <td>1.000000</td>\n",
       "      <td>0.735809</td>\n",
       "      <td>-0.045895</td>\n",
       "      <td>-0.225394</td>\n",
       "      <td>0.040384</td>\n",
       "      <td>-0.066519</td>\n",
       "      <td>-0.068133</td>\n",
       "    </tr>\n",
       "    <tr>\n",
       "      <td>2</td>\n",
       "      <td>0.735809</td>\n",
       "      <td>1.000000</td>\n",
       "      <td>0.047233</td>\n",
       "      <td>-0.223488</td>\n",
       "      <td>-0.115455</td>\n",
       "      <td>-0.038683</td>\n",
       "      <td>-0.138312</td>\n",
       "    </tr>\n",
       "    <tr>\n",
       "      <td>3</td>\n",
       "      <td>-0.045895</td>\n",
       "      <td>0.047233</td>\n",
       "      <td>1.000000</td>\n",
       "      <td>0.369179</td>\n",
       "      <td>0.043051</td>\n",
       "      <td>0.494418</td>\n",
       "      <td>0.648072</td>\n",
       "    </tr>\n",
       "    <tr>\n",
       "      <td>4</td>\n",
       "      <td>-0.225394</td>\n",
       "      <td>-0.223488</td>\n",
       "      <td>0.369179</td>\n",
       "      <td>1.000000</td>\n",
       "      <td>0.696659</td>\n",
       "      <td>0.209342</td>\n",
       "      <td>0.255105</td>\n",
       "    </tr>\n",
       "    <tr>\n",
       "      <td>5</td>\n",
       "      <td>0.040384</td>\n",
       "      <td>-0.115455</td>\n",
       "      <td>0.043051</td>\n",
       "      <td>0.696659</td>\n",
       "      <td>1.000000</td>\n",
       "      <td>0.271829</td>\n",
       "      <td>0.277095</td>\n",
       "    </tr>\n",
       "    <tr>\n",
       "      <td>6</td>\n",
       "      <td>-0.066519</td>\n",
       "      <td>-0.038683</td>\n",
       "      <td>0.494418</td>\n",
       "      <td>0.209342</td>\n",
       "      <td>0.271829</td>\n",
       "      <td>1.000000</td>\n",
       "      <td>0.700161</td>\n",
       "    </tr>\n",
       "    <tr>\n",
       "      <td>7</td>\n",
       "      <td>-0.068133</td>\n",
       "      <td>-0.138312</td>\n",
       "      <td>0.648072</td>\n",
       "      <td>0.255105</td>\n",
       "      <td>0.277095</td>\n",
       "      <td>0.700161</td>\n",
       "      <td>1.000000</td>\n",
       "    </tr>\n",
       "  </tbody>\n",
       "</table>\n",
       "</div>"
      ],
      "text/plain": [
       "          1         2         3         4         5         6         7\n",
       "1  1.000000  0.735809 -0.045895 -0.225394  0.040384 -0.066519 -0.068133\n",
       "2  0.735809  1.000000  0.047233 -0.223488 -0.115455 -0.038683 -0.138312\n",
       "3 -0.045895  0.047233  1.000000  0.369179  0.043051  0.494418  0.648072\n",
       "4 -0.225394 -0.223488  0.369179  1.000000  0.696659  0.209342  0.255105\n",
       "5  0.040384 -0.115455  0.043051  0.696659  1.000000  0.271829  0.277095\n",
       "6 -0.066519 -0.038683  0.494418  0.209342  0.271829  1.000000  0.700161\n",
       "7 -0.068133 -0.138312  0.648072  0.255105  0.277095  0.700161  1.000000"
      ]
     },
     "execution_count": 27,
     "metadata": {},
     "output_type": "execute_result"
    }
   ],
   "source": [
    "corr = df_bod[df_bod.columns.to_list()[1:]].corr()\n",
    "corr"
   ]
  },
  {
   "cell_type": "markdown",
   "metadata": {},
   "source": [
    "The Biggest Correlation is between the first two features and our target value"
   ]
  },
  {
   "cell_type": "markdown",
   "metadata": {},
   "source": [
    "## Heatmap of Correlation Matrix using Seaborn\n",
    "\n",
    "Variables are correlated to each other from a scale of 1 being the most correlated and -1 is not correlated at all. "
   ]
  },
  {
   "cell_type": "code",
   "execution_count": 28,
   "metadata": {
    "ExecuteTime": {
     "end_time": "2020-09-21T10:05:23.972857Z",
     "start_time": "2020-09-21T10:05:23.243444Z"
    }
   },
   "outputs": [
    {
     "data": {
      "image/png": "[encoded data removed]",
      "text/plain": [
       "<Figure size 720x576 with 2 Axes>"
      ]
     },
     "metadata": {
      "needs_background": "light"
     },
     "output_type": "display_data"
    }
   ],
   "source": [
    "# Heatmap of Correlation \n",
    "plt.figure(figsize=(10, 8))\n",
    "sns.heatmap(corr, xticklabels=corr.columns, yticklabels=corr.columns, linewidths=.5, annot=True, fmt='.1f')\n",
    "plt.show()"
   ]
  },
  {
   "cell_type": "markdown",
   "metadata": {},
   "source": [
    "## Visualization \n",
    "\n",
    "### Pairplot \n",
    "A pairplot plot a pairwise relationships in a dataset. The pairplot function creates a grid of Axes such that each variable in data will by shared in the y-axis across a single row and in the x-axis across a single column."
   ]
  },
  {
   "cell_type": "code",
   "execution_count": 29,
   "metadata": {
    "ExecuteTime": {
     "end_time": "2020-09-21T10:06:09.789621Z",
     "start_time": "2020-09-21T10:05:23.977875Z"
    },
    "scrolled": false
   },
   "outputs": [
    {
     "data": {
      "image/png": "[encoded data removed]",
      "text/plain": [
       "<Figure size 1440x1440 with 72 Axes>"
      ]
     },
     "metadata": {
      "needs_background": "light"
     },
     "output_type": "display_data"
    }
   ],
   "source": [
    "sns.pairplot(df_bod)\n",
    "plt.show()"
   ]
  },
  {
   "cell_type": "markdown",
   "metadata": {
    "ExecuteTime": {
     "end_time": "2020-09-20T17:59:38.064692Z",
     "start_time": "2020-09-20T17:59:38.058021Z"
    }
   },
   "source": [
    "### Analysis of Target using CountPlot"
   ]
  },
  {
   "cell_type": "code",
   "execution_count": 30,
   "metadata": {
    "ExecuteTime": {
     "end_time": "2020-09-21T10:06:11.707246Z",
     "start_time": "2020-09-21T10:06:09.801140Z"
    },
    "scrolled": true
   },
   "outputs": [
    {
     "data": {
      "image/png": "[encoded data removed]",
      "text/plain": [
       "<Figure size 432x288 with 1 Axes>"
      ]
     },
     "metadata": {
      "needs_background": "light"
     },
     "output_type": "display_data"
    }
   ],
   "source": [
    "sns.countplot(x=df_bod['target'], data=df_bod, palette=\"PuRd_r\")\n",
    "plt.show()"
   ]
  },
  {
   "cell_type": "markdown",
   "metadata": {},
   "source": [
    "#### We find that the target values are scattered all over the place \n",
    "\n",
    "Therefore we need to convert this regression problem into a classification problem  \n",
    "We'll see this later"
   ]
  },
  {
   "cell_type": "markdown",
   "metadata": {},
   "source": [
    "### Datapoint distribution using DistPlot "
   ]
  },
  {
   "cell_type": "markdown",
   "metadata": {},
   "source": [
    "Analysing distribution of our dataset wrt target value"
   ]
  },
  {
   "cell_type": "code",
   "execution_count": 31,
   "metadata": {
    "ExecuteTime": {
     "end_time": "2020-09-21T10:06:13.143497Z",
     "start_time": "2020-09-21T10:06:11.712222Z"
    },
    "scrolled": false
   },
   "outputs": [
    {
     "name": "stderr",
     "output_type": "stream",
     "text": [
      "/home/afroz/.local/lib/python3.6/site-packages/seaborn/distributions.py:2551: FutureWarning: `distplot` is a deprecated function and will be removed in a future version. Please adapt your code to use either `displot` (a figure-level function with similar flexibility) or `histplot` (an axes-level function for histograms).\n",
      "  warnings.warn(msg, FutureWarning)\n"
     ]
    },
    {
     "data": {
      "text/plain": [
       "Text(0.5, 1.0, 'Distribution of data points in the dataset')"
      ]
     },
     "execution_count": 31,
     "metadata": {},
     "output_type": "execute_result"
    },
    {
     "data": {
      "image/png": "[encoded data removed]",
      "text/plain": [
       "<Figure size 1008x720 with 1 Axes>"
      ]
     },
     "metadata": {},
     "output_type": "display_data"
    }
   ],
   "source": [
    "sns.set()\n",
    "plt.figure(figsize=(14, 10))\n",
    "sns.distplot(df_bod['target'])\n",
    "plt.title('Distribution of data points in the dataset')"
   ]
  },
  {
   "cell_type": "markdown",
   "metadata": {},
   "source": [
    "<hr>\n",
    "\n",
    "## Managing Categorical Data \n",
    "\n",
    "In many classification problems, the target dataset is made up of categorical labels which cannot immediately be processed by an algorithm.\n",
    "\n",
    "**Since we don't have any categorical labels, we don't need to use LabelEncoder.**"
   ]
  },
  {
   "cell_type": "markdown",
   "metadata": {},
   "source": [
    "## Missing Features and Imputer Class\n",
    "\n",
    "Null Values in the dataset can be removed by three ways -  \n",
    "1) Removing the row\n",
    "2) Creating sub-model to predict those features\n",
    "3) Using Imputer"
   ]
  },
  {
   "cell_type": "markdown",
   "metadata": {},
   "source": [
    "### a. NULL Value\n",
    "\n",
    "Looking at our dataset most values in feature columns from 3 to 7 consist of mostly NaN values. \n",
    "\n",
    "As more than 50 % of the values are NaN, Thus it's better to drop them as they won't contribute anything to our model"
   ]
  },
  {
   "cell_type": "code",
   "execution_count": 32,
   "metadata": {
    "ExecuteTime": {
     "end_time": "2020-09-21T10:06:13.173549Z",
     "start_time": "2020-09-21T10:06:13.147483Z"
    }
   },
   "outputs": [
    {
     "data": {
      "text/plain": [
       "target      0\n",
       "1           2\n",
       "2           2\n",
       "3         115\n",
       "4         116\n",
       "5         114\n",
       "6         110\n",
       "7         110\n",
       "dtype: int64"
      ]
     },
     "execution_count": 32,
     "metadata": {},
     "output_type": "execute_result"
    }
   ],
   "source": [
    "# Finding which columns have most NaN values\n",
    "df_bod.isna().sum()"
   ]
  },
  {
   "cell_type": "code",
   "execution_count": 33,
   "metadata": {
    "ExecuteTime": {
     "end_time": "2020-09-21T10:06:13.245547Z",
     "start_time": "2020-09-21T10:06:13.178138Z"
    }
   },
   "outputs": [
    {
     "data": {
      "text/plain": [
       "['target', '1', '2']"
      ]
     },
     "execution_count": 33,
     "metadata": {},
     "output_type": "execute_result"
    }
   ],
   "source": [
    "# Listing first 3 columns\n",
    "df_bod.columns.to_list()[:3]"
   ]
  },
  {
   "cell_type": "code",
   "execution_count": 34,
   "metadata": {
    "ExecuteTime": {
     "end_time": "2020-09-21T10:06:13.310997Z",
     "start_time": "2020-09-21T10:06:13.256432Z"
    }
   },
   "outputs": [],
   "source": [
    "# Assiging df to the first 2 columns only \n",
    "df_bod = df_bod[df_bod.columns.to_list()[:3]]"
   ]
  },
  {
   "cell_type": "code",
   "execution_count": 35,
   "metadata": {
    "ExecuteTime": {
     "end_time": "2020-09-21T10:06:13.377349Z",
     "start_time": "2020-09-21T10:06:13.324720Z"
    },
    "scrolled": false
   },
   "outputs": [
    {
     "data": {
      "text/plain": [
       "target    0\n",
       "1         2\n",
       "2         2\n",
       "dtype: int64"
      ]
     },
     "execution_count": 35,
     "metadata": {},
     "output_type": "execute_result"
    }
   ],
   "source": [
    "# Finding the number of missing rows in them\n",
    "df_bod.isna().sum()"
   ]
  },
  {
   "cell_type": "code",
   "execution_count": 36,
   "metadata": {
    "ExecuteTime": {
     "end_time": "2020-09-21T10:06:13.450370Z",
     "start_time": "2020-09-21T10:06:13.382826Z"
    }
   },
   "outputs": [],
   "source": [
    "# Separating the nan cols \n",
    "nan_cols = df_bod.isna().sum()[df_bod.isna().sum()>0].index.to_list()"
   ]
  },
  {
   "cell_type": "markdown",
   "metadata": {},
   "source": [
    "### b. Imputer\n",
    "\n",
    "Imputing the NaN values in the first two features"
   ]
  },
  {
   "cell_type": "markdown",
   "metadata": {},
   "source": [
    "Scikit-learn offers the class Imputer, which is responsible for filling the holes using a strategy based on the mean (default choice), median, or frequency (the most frequent entry will be used for all the missing ones)."
   ]
  },
  {
   "cell_type": "code",
   "execution_count": 37,
   "metadata": {
    "ExecuteTime": {
     "end_time": "2020-09-21T10:06:16.378304Z",
     "start_time": "2020-09-21T10:06:13.456268Z"
    }
   },
   "outputs": [
    {
     "data": {
      "text/plain": [
       "array([[ 5.85      ,  4.8       ,  5.85      ],\n",
       "       [ 4.28      ,  5.88      ,  6.84      ],\n",
       "       [ 3.97      ,  3.2       ,  2.7       ],\n",
       "       [ 5.95      ,  7.7       ,  7.06      ],\n",
       "       [ 4.7       ,  5.5       ,  5.3       ],\n",
       "       [ 4.36      ,  4.91      ,  4.48      ],\n",
       "       [ 3.74      ,  3.71      ,  3.76      ],\n",
       "       [ 7.7       ,  3.75      ,  3.6       ],\n",
       "       [ 3.34      ,  2.13      ,  5.4       ],\n",
       "       [ 3.96      ,  2.24      ,  4.22      ],\n",
       "       [ 4.98      ,  5.7       ,  4.68      ],\n",
       "       [ 6.79      ,  6.58      ,  2.72      ],\n",
       "       [ 2.        ,  1.17      ,  1.46      ],\n",
       "       [ 9.3       ,  7.55      ,  8.5       ],\n",
       "       [ 4.1       ,  5.35      ,  4.15      ],\n",
       "       [ 3.93      ,  3.05      ,  3.87      ],\n",
       "       [ 4.47      ,  4.73      ,  4.83      ],\n",
       "       [ 4.1       ,  3.5       ,  2.3       ],\n",
       "       [ 4.5       ,  4.8       ,  3.        ],\n",
       "       [ 5.        ,  5.3       ,  4.07      ],\n",
       "       [ 5.75      ,  5.23      ,  4.8       ],\n",
       "       [ 3.9       ,  3.9       ,  4.8       ],\n",
       "       [ 6.4       ,  5.6       ,  5.3       ],\n",
       "       [ 4.5       ,  4.4       ,  3.5       ],\n",
       "       [ 7.7       ,  6.8       ,  7.4       ],\n",
       "       [ 3.5       ,  3.3       ,  2.9       ],\n",
       "       [ 7.1       ,  6.5       ,  5.9       ],\n",
       "       [ 4.5       ,  3.6       ,  4.5       ],\n",
       "       [ 4.2       ,  4.7       ,  3.8       ],\n",
       "       [ 2.2       ,  2.2       ,  3.4       ],\n",
       "       [ 7.7       ,  5.02      ,  5.4       ],\n",
       "       [ 4.6       ,  4.25      ,  3.55      ],\n",
       "       [ 3.3       ,  3.45      ,  2.7       ],\n",
       "       [ 7.9       ,  6.3       ,  5.8       ],\n",
       "       [ 2.3       ,  2.3       ,  2.        ],\n",
       "       [ 2.5       ,  8.6       ,  6.        ],\n",
       "       [ 3.55      ,  4.        ,  2.85      ],\n",
       "       [ 5.3       ,  2.4       ,  2.7       ],\n",
       "       [ 6.8       ,  6.5       ,  7.1       ],\n",
       "       [ 3.17      ,  3.5       ,  6.13      ],\n",
       "       [ 1.9       ,  2.1       ,  2.6       ],\n",
       "       [ 4.55      ,  7.3       ,  6.        ],\n",
       "       [ 3.        ,  5.        ,  3.3       ],\n",
       "       [ 3.9       ,  4.2       ,  5.5       ],\n",
       "       [ 6.        ,  6.6       ,  6.6       ],\n",
       "       [ 4.23      ,  4.1       ,  4.3       ],\n",
       "       [ 6.7       ,  6.1       ,  6.37      ],\n",
       "       [ 4.7       ,  4.4       ,  3.7       ],\n",
       "       [ 2.        ,  3.5       ,  3.6       ],\n",
       "       [ 4.85      ,  5.95      ,  5.15      ],\n",
       "       [ 6.9       ,  7.15      ,  6.2       ],\n",
       "       [ 5.4       ,  4.8       ,  4.90655172],\n",
       "       [ 4.4       ,  4.27      ,  4.2       ],\n",
       "       [ 4.2       ,  4.4       ,  5.7       ],\n",
       "       [11.7       , 10.9       ,  5.9       ],\n",
       "       [ 4.7       ,  5.4       , 11.        ],\n",
       "       [ 1.3       ,  4.97262069,  1.9       ],\n",
       "       [ 2.9       ,  3.3       ,  4.1       ],\n",
       "       [ 4.73      ,  3.97      ,  5.1       ],\n",
       "       [ 5.4       ,  7.9       ,  6.7       ],\n",
       "       [ 2.3       ,  1.4       ,  2.6       ],\n",
       "       [ 1.4       ,  1.7       ,  1.7       ],\n",
       "       [ 9.6       ,  8.        ,  8.6       ],\n",
       "       [ 4.9       ,  5.55      ,  4.9       ],\n",
       "       [ 3.05      ,  4.55      ,  4.25      ],\n",
       "       [ 4.2       ,  5.1       ,  4.35      ],\n",
       "       [ 5.9       ,  5.65      ,  5.05      ],\n",
       "       [ 4.7       ,  6.1       ,  7.3       ],\n",
       "       [ 4.1       ,  4.3       ,  5.5       ],\n",
       "       [ 4.6       ,  4.8       ,  4.97      ],\n",
       "       [ 4.28      ,  6.02      ,  5.7       ],\n",
       "       [ 1.9       ,  1.9       ,  2.6       ],\n",
       "       [ 4.7       ,  4.7       ,  3.3       ],\n",
       "       [ 4.5       ,  5.3       ,  4.8       ],\n",
       "       [ 2.1       ,  4.2       ,  6.3       ],\n",
       "       [ 5.07      ,  4.5       ,  6.03      ],\n",
       "       [ 3.5       ,  5.9       ,  6.9       ],\n",
       "       [ 4.6       ,  5.1       ,  5.9       ],\n",
       "       [ 8.45      ,  8.75      ,  6.95      ],\n",
       "       [ 7.4       ,  6.6       ,  6.8       ],\n",
       "       [ 9.2       ,  7.2       ,  8.6       ],\n",
       "       [ 1.8       ,  1.8       ,  2.1       ],\n",
       "       [ 4.        ,  2.8       ,  4.        ],\n",
       "       [ 3.12      ,  3.12      ,  1.84      ],\n",
       "       [ 4.42      ,  2.84      ,  3.16      ],\n",
       "       [ 2.05      ,  3.87      ,  1.58      ],\n",
       "       [ 8.65      ,  7.65      ,  6.6       ],\n",
       "       [ 5.32      ,  3.46      ,  1.98      ],\n",
       "       [ 6.65      ,  3.54      ,  6.45      ],\n",
       "       [ 3.9       ,  1.4       ,  2.4       ],\n",
       "       [ 1.8       ,  2.27      ,  2.94      ],\n",
       "       [ 4.25      ,  0.9       ,  1.2       ],\n",
       "       [ 9.8       ,  7.6       ,  6.4       ],\n",
       "       [ 3.35      ,  3.3       ,  4.7       ],\n",
       "       [ 6.98      ,  7.6       ,  5.4       ],\n",
       "       [ 2.        ,  1.5       ,  3.8       ],\n",
       "       [ 3.89      ,  4.2       ,  3.9       ],\n",
       "       [ 5.        ,  4.97262069,  4.90655172],\n",
       "       [ 3.6       ,  3.33      ,  6.95      ],\n",
       "       [ 8.2       ,  8.8       ,  8.8       ],\n",
       "       [ 3.4       ,  4.02      ,  3.97      ],\n",
       "       [ 3.15      ,  3.15      ,  2.2       ],\n",
       "       [ 5.65      ,  6.6       ,  5.8       ],\n",
       "       [ 9.1       ,  9.65      , 10.95      ],\n",
       "       [ 8.8       ,  7.9       ,  6.3       ],\n",
       "       [ 6.15      ,  5.85      ,  6.7       ],\n",
       "       [ 5.92      ,  6.58      ,  4.28      ],\n",
       "       [ 6.7       ,  4.65      ,  5.61      ],\n",
       "       [ 3.61      ,  2.91      ,  2.52      ],\n",
       "       [ 1.9       ,  2.86      ,  1.04      ],\n",
       "       [ 5.6       ,  6.9       ,  8.7       ],\n",
       "       [ 2.5       ,  2.8       ,  6.02      ],\n",
       "       [ 5.6       ,  7.        ,  7.8       ],\n",
       "       [ 9.        ,  4.8       ,  5.7       ],\n",
       "       [ 6.83      ,  5.95      ,  4.7       ],\n",
       "       [ 5.62      ,  7.1       ,  6.1       ],\n",
       "       [ 8.2       , 10.7       ,  7.3       ],\n",
       "       [ 6.4       ,  6.45      ,  6.5       ],\n",
       "       [ 6.5       ,  4.8       ,  3.9       ],\n",
       "       [ 4.2       ,  3.9       ,  4.1       ],\n",
       "       [ 3.7       ,  3.5       ,  3.3       ],\n",
       "       [11.5       ,  7.1       ,  9.        ],\n",
       "       [ 5.6       ,  4.1       ,  3.4       ],\n",
       "       [ 3.15      ,  3.05      ,  2.4       ],\n",
       "       [ 3.8       ,  5.2       ,  3.3       ],\n",
       "       [ 1.8       ,  1.9       ,  2.4       ],\n",
       "       [ 5.7       ,  5.3       ,  3.9       ],\n",
       "       [ 4.9       ,  4.6       ,  4.9       ],\n",
       "       [ 6.4       ,  6.4       ,  6.8       ],\n",
       "       [ 4.7       ,  3.6       ,  1.9       ],\n",
       "       [ 4.4       ,  5.7       ,  2.2       ],\n",
       "       [10.7       , 10.4       ,  8.        ],\n",
       "       [ 5.12      ,  4.4       ,  5.4       ],\n",
       "       [ 3.9       ,  5.        ,  5.4       ],\n",
       "       [ 6.5       ,  7.9       ,  4.9       ],\n",
       "       [ 5.7       ,  3.7       ,  5.2       ],\n",
       "       [ 7.        ,  7.3       ,  5.9       ],\n",
       "       [ 3.75      ,  2.52      ,  1.72      ],\n",
       "       [ 4.25      ,  4.25      ,  4.8       ],\n",
       "       [ 4.6       ,  3.1       ,  4.        ],\n",
       "       [ 6.8       ,  8.        ,  7.4       ],\n",
       "       [ 7.9       ,  8.3       ,  7.6       ],\n",
       "       [ 2.2       ,  5.        ,  5.8       ],\n",
       "       [ 5.6       ,  8.        ,  8.        ],\n",
       "       [ 6.        ,  6.8       ,  7.2       ],\n",
       "       [ 8.        ,  5.2       ,  7.8       ],\n",
       "       [ 3.1       ,  3.4       ,  4.1       ]])"
      ]
     },
     "execution_count": 37,
     "metadata": {},
     "output_type": "execute_result"
    }
   ],
   "source": [
    "# Removing Null Values using SimpleImputer MEAN METHOD -\n",
    "\n",
    "from sklearn.impute import SimpleImputer \n",
    "imputer = SimpleImputer(missing_values=np.nan, strategy='mean')\n",
    "imputer.fit_transform(df_bod)"
   ]
  },
  {
   "cell_type": "code",
   "execution_count": 38,
   "metadata": {
    "ExecuteTime": {
     "end_time": "2020-09-21T10:06:16.528251Z",
     "start_time": "2020-09-21T10:06:16.394558Z"
    }
   },
   "outputs": [
    {
     "data": {
      "text/plain": [
       "array([[ 5.85,  4.8 ,  5.85],\n",
       "       [ 4.28,  5.88,  6.84],\n",
       "       [ 3.97,  3.2 ,  2.7 ],\n",
       "       [ 5.95,  7.7 ,  7.06],\n",
       "       [ 4.7 ,  5.5 ,  5.3 ],\n",
       "       [ 4.36,  4.91,  4.48],\n",
       "       [ 3.74,  3.71,  3.76],\n",
       "       [ 7.7 ,  3.75,  3.6 ],\n",
       "       [ 3.34,  2.13,  5.4 ],\n",
       "       [ 3.96,  2.24,  4.22],\n",
       "       [ 4.98,  5.7 ,  4.68],\n",
       "       [ 6.79,  6.58,  2.72],\n",
       "       [ 2.  ,  1.17,  1.46],\n",
       "       [ 9.3 ,  7.55,  8.5 ],\n",
       "       [ 4.1 ,  5.35,  4.15],\n",
       "       [ 3.93,  3.05,  3.87],\n",
       "       [ 4.47,  4.73,  4.83],\n",
       "       [ 4.1 ,  3.5 ,  2.3 ],\n",
       "       [ 4.5 ,  4.8 ,  3.  ],\n",
       "       [ 5.  ,  5.3 ,  4.07],\n",
       "       [ 5.75,  5.23,  4.8 ],\n",
       "       [ 3.9 ,  3.9 ,  4.8 ],\n",
       "       [ 6.4 ,  5.6 ,  5.3 ],\n",
       "       [ 4.5 ,  4.4 ,  3.5 ],\n",
       "       [ 7.7 ,  6.8 ,  7.4 ],\n",
       "       [ 3.5 ,  3.3 ,  2.9 ],\n",
       "       [ 7.1 ,  6.5 ,  5.9 ],\n",
       "       [ 4.5 ,  3.6 ,  4.5 ],\n",
       "       [ 4.2 ,  4.7 ,  3.8 ],\n",
       "       [ 2.2 ,  2.2 ,  3.4 ],\n",
       "       [ 7.7 ,  5.02,  5.4 ],\n",
       "       [ 4.6 ,  4.25,  3.55],\n",
       "       [ 3.3 ,  3.45,  2.7 ],\n",
       "       [ 7.9 ,  6.3 ,  5.8 ],\n",
       "       [ 2.3 ,  2.3 ,  2.  ],\n",
       "       [ 2.5 ,  8.6 ,  6.  ],\n",
       "       [ 3.55,  4.  ,  2.85],\n",
       "       [ 5.3 ,  2.4 ,  2.7 ],\n",
       "       [ 6.8 ,  6.5 ,  7.1 ],\n",
       "       [ 3.17,  3.5 ,  6.13],\n",
       "       [ 1.9 ,  2.1 ,  2.6 ],\n",
       "       [ 4.55,  7.3 ,  6.  ],\n",
       "       [ 3.  ,  5.  ,  3.3 ],\n",
       "       [ 3.9 ,  4.2 ,  5.5 ],\n",
       "       [ 6.  ,  6.6 ,  6.6 ],\n",
       "       [ 4.23,  4.1 ,  4.3 ],\n",
       "       [ 6.7 ,  6.1 ,  6.37],\n",
       "       [ 4.7 ,  4.4 ,  3.7 ],\n",
       "       [ 2.  ,  3.5 ,  3.6 ],\n",
       "       [ 4.85,  5.95,  5.15],\n",
       "       [ 6.9 ,  7.15,  6.2 ],\n",
       "       [ 5.4 ,  4.8 ,  4.83],\n",
       "       [ 4.4 ,  4.27,  4.2 ],\n",
       "       [ 4.2 ,  4.4 ,  5.7 ],\n",
       "       [11.7 , 10.9 ,  5.9 ],\n",
       "       [ 4.7 ,  5.4 , 11.  ],\n",
       "       [ 1.3 ,  4.8 ,  1.9 ],\n",
       "       [ 2.9 ,  3.3 ,  4.1 ],\n",
       "       [ 4.73,  3.97,  5.1 ],\n",
       "       [ 5.4 ,  7.9 ,  6.7 ],\n",
       "       [ 2.3 ,  1.4 ,  2.6 ],\n",
       "       [ 1.4 ,  1.7 ,  1.7 ],\n",
       "       [ 9.6 ,  8.  ,  8.6 ],\n",
       "       [ 4.9 ,  5.55,  4.9 ],\n",
       "       [ 3.05,  4.55,  4.25],\n",
       "       [ 4.2 ,  5.1 ,  4.35],\n",
       "       [ 5.9 ,  5.65,  5.05],\n",
       "       [ 4.7 ,  6.1 ,  7.3 ],\n",
       "       [ 4.1 ,  4.3 ,  5.5 ],\n",
       "       [ 4.6 ,  4.8 ,  4.97],\n",
       "       [ 4.28,  6.02,  5.7 ],\n",
       "       [ 1.9 ,  1.9 ,  2.6 ],\n",
       "       [ 4.7 ,  4.7 ,  3.3 ],\n",
       "       [ 4.5 ,  5.3 ,  4.8 ],\n",
       "       [ 2.1 ,  4.2 ,  6.3 ],\n",
       "       [ 5.07,  4.5 ,  6.03],\n",
       "       [ 3.5 ,  5.9 ,  6.9 ],\n",
       "       [ 4.6 ,  5.1 ,  5.9 ],\n",
       "       [ 8.45,  8.75,  6.95],\n",
       "       [ 7.4 ,  6.6 ,  6.8 ],\n",
       "       [ 9.2 ,  7.2 ,  8.6 ],\n",
       "       [ 1.8 ,  1.8 ,  2.1 ],\n",
       "       [ 4.  ,  2.8 ,  4.  ],\n",
       "       [ 3.12,  3.12,  1.84],\n",
       "       [ 4.42,  2.84,  3.16],\n",
       "       [ 2.05,  3.87,  1.58],\n",
       "       [ 8.65,  7.65,  6.6 ],\n",
       "       [ 5.32,  3.46,  1.98],\n",
       "       [ 6.65,  3.54,  6.45],\n",
       "       [ 3.9 ,  1.4 ,  2.4 ],\n",
       "       [ 1.8 ,  2.27,  2.94],\n",
       "       [ 4.25,  0.9 ,  1.2 ],\n",
       "       [ 9.8 ,  7.6 ,  6.4 ],\n",
       "       [ 3.35,  3.3 ,  4.7 ],\n",
       "       [ 6.98,  7.6 ,  5.4 ],\n",
       "       [ 2.  ,  1.5 ,  3.8 ],\n",
       "       [ 3.89,  4.2 ,  3.9 ],\n",
       "       [ 5.  ,  4.8 ,  4.83],\n",
       "       [ 3.6 ,  3.33,  6.95],\n",
       "       [ 8.2 ,  8.8 ,  8.8 ],\n",
       "       [ 3.4 ,  4.02,  3.97],\n",
       "       [ 3.15,  3.15,  2.2 ],\n",
       "       [ 5.65,  6.6 ,  5.8 ],\n",
       "       [ 9.1 ,  9.65, 10.95],\n",
       "       [ 8.8 ,  7.9 ,  6.3 ],\n",
       "       [ 6.15,  5.85,  6.7 ],\n",
       "       [ 5.92,  6.58,  4.28],\n",
       "       [ 6.7 ,  4.65,  5.61],\n",
       "       [ 3.61,  2.91,  2.52],\n",
       "       [ 1.9 ,  2.86,  1.04],\n",
       "       [ 5.6 ,  6.9 ,  8.7 ],\n",
       "       [ 2.5 ,  2.8 ,  6.02],\n",
       "       [ 5.6 ,  7.  ,  7.8 ],\n",
       "       [ 9.  ,  4.8 ,  5.7 ],\n",
       "       [ 6.83,  5.95,  4.7 ],\n",
       "       [ 5.62,  7.1 ,  6.1 ],\n",
       "       [ 8.2 , 10.7 ,  7.3 ],\n",
       "       [ 6.4 ,  6.45,  6.5 ],\n",
       "       [ 6.5 ,  4.8 ,  3.9 ],\n",
       "       [ 4.2 ,  3.9 ,  4.1 ],\n",
       "       [ 3.7 ,  3.5 ,  3.3 ],\n",
       "       [11.5 ,  7.1 ,  9.  ],\n",
       "       [ 5.6 ,  4.1 ,  3.4 ],\n",
       "       [ 3.15,  3.05,  2.4 ],\n",
       "       [ 3.8 ,  5.2 ,  3.3 ],\n",
       "       [ 1.8 ,  1.9 ,  2.4 ],\n",
       "       [ 5.7 ,  5.3 ,  3.9 ],\n",
       "       [ 4.9 ,  4.6 ,  4.9 ],\n",
       "       [ 6.4 ,  6.4 ,  6.8 ],\n",
       "       [ 4.7 ,  3.6 ,  1.9 ],\n",
       "       [ 4.4 ,  5.7 ,  2.2 ],\n",
       "       [10.7 , 10.4 ,  8.  ],\n",
       "       [ 5.12,  4.4 ,  5.4 ],\n",
       "       [ 3.9 ,  5.  ,  5.4 ],\n",
       "       [ 6.5 ,  7.9 ,  4.9 ],\n",
       "       [ 5.7 ,  3.7 ,  5.2 ],\n",
       "       [ 7.  ,  7.3 ,  5.9 ],\n",
       "       [ 3.75,  2.52,  1.72],\n",
       "       [ 4.25,  4.25,  4.8 ],\n",
       "       [ 4.6 ,  3.1 ,  4.  ],\n",
       "       [ 6.8 ,  8.  ,  7.4 ],\n",
       "       [ 7.9 ,  8.3 ,  7.6 ],\n",
       "       [ 2.2 ,  5.  ,  5.8 ],\n",
       "       [ 5.6 ,  8.  ,  8.  ],\n",
       "       [ 6.  ,  6.8 ,  7.2 ],\n",
       "       [ 8.  ,  5.2 ,  7.8 ],\n",
       "       [ 3.1 ,  3.4 ,  4.1 ]])"
      ]
     },
     "execution_count": 38,
     "metadata": {},
     "output_type": "execute_result"
    }
   ],
   "source": [
    "# Removing Null Values using SimpleImputer MEDIAN METHOD -\n",
    "\n",
    "imputer = SimpleImputer(missing_values=np.nan, strategy='median')\n",
    "imputer.fit_transform(df_bod)"
   ]
  },
  {
   "cell_type": "code",
   "execution_count": 39,
   "metadata": {
    "ExecuteTime": {
     "end_time": "2020-09-21T10:06:16.606940Z",
     "start_time": "2020-09-21T10:06:16.544144Z"
    }
   },
   "outputs": [
    {
     "data": {
      "text/plain": [
       "array([[ 5.85,  4.8 ,  5.85],\n",
       "       [ 4.28,  5.88,  6.84],\n",
       "       [ 3.97,  3.2 ,  2.7 ],\n",
       "       [ 5.95,  7.7 ,  7.06],\n",
       "       [ 4.7 ,  5.5 ,  5.3 ],\n",
       "       [ 4.36,  4.91,  4.48],\n",
       "       [ 3.74,  3.71,  3.76],\n",
       "       [ 7.7 ,  3.75,  3.6 ],\n",
       "       [ 3.34,  2.13,  5.4 ],\n",
       "       [ 3.96,  2.24,  4.22],\n",
       "       [ 4.98,  5.7 ,  4.68],\n",
       "       [ 6.79,  6.58,  2.72],\n",
       "       [ 2.  ,  1.17,  1.46],\n",
       "       [ 9.3 ,  7.55,  8.5 ],\n",
       "       [ 4.1 ,  5.35,  4.15],\n",
       "       [ 3.93,  3.05,  3.87],\n",
       "       [ 4.47,  4.73,  4.83],\n",
       "       [ 4.1 ,  3.5 ,  2.3 ],\n",
       "       [ 4.5 ,  4.8 ,  3.  ],\n",
       "       [ 5.  ,  5.3 ,  4.07],\n",
       "       [ 5.75,  5.23,  4.8 ],\n",
       "       [ 3.9 ,  3.9 ,  4.8 ],\n",
       "       [ 6.4 ,  5.6 ,  5.3 ],\n",
       "       [ 4.5 ,  4.4 ,  3.5 ],\n",
       "       [ 7.7 ,  6.8 ,  7.4 ],\n",
       "       [ 3.5 ,  3.3 ,  2.9 ],\n",
       "       [ 7.1 ,  6.5 ,  5.9 ],\n",
       "       [ 4.5 ,  3.6 ,  4.5 ],\n",
       "       [ 4.2 ,  4.7 ,  3.8 ],\n",
       "       [ 2.2 ,  2.2 ,  3.4 ],\n",
       "       [ 7.7 ,  5.02,  5.4 ],\n",
       "       [ 4.6 ,  4.25,  3.55],\n",
       "       [ 3.3 ,  3.45,  2.7 ],\n",
       "       [ 7.9 ,  6.3 ,  5.8 ],\n",
       "       [ 2.3 ,  2.3 ,  2.  ],\n",
       "       [ 2.5 ,  8.6 ,  6.  ],\n",
       "       [ 3.55,  4.  ,  2.85],\n",
       "       [ 5.3 ,  2.4 ,  2.7 ],\n",
       "       [ 6.8 ,  6.5 ,  7.1 ],\n",
       "       [ 3.17,  3.5 ,  6.13],\n",
       "       [ 1.9 ,  2.1 ,  2.6 ],\n",
       "       [ 4.55,  7.3 ,  6.  ],\n",
       "       [ 3.  ,  5.  ,  3.3 ],\n",
       "       [ 3.9 ,  4.2 ,  5.5 ],\n",
       "       [ 6.  ,  6.6 ,  6.6 ],\n",
       "       [ 4.23,  4.1 ,  4.3 ],\n",
       "       [ 6.7 ,  6.1 ,  6.37],\n",
       "       [ 4.7 ,  4.4 ,  3.7 ],\n",
       "       [ 2.  ,  3.5 ,  3.6 ],\n",
       "       [ 4.85,  5.95,  5.15],\n",
       "       [ 6.9 ,  7.15,  6.2 ],\n",
       "       [ 5.4 ,  4.8 ,  5.4 ],\n",
       "       [ 4.4 ,  4.27,  4.2 ],\n",
       "       [ 4.2 ,  4.4 ,  5.7 ],\n",
       "       [11.7 , 10.9 ,  5.9 ],\n",
       "       [ 4.7 ,  5.4 , 11.  ],\n",
       "       [ 1.3 ,  4.8 ,  1.9 ],\n",
       "       [ 2.9 ,  3.3 ,  4.1 ],\n",
       "       [ 4.73,  3.97,  5.1 ],\n",
       "       [ 5.4 ,  7.9 ,  6.7 ],\n",
       "       [ 2.3 ,  1.4 ,  2.6 ],\n",
       "       [ 1.4 ,  1.7 ,  1.7 ],\n",
       "       [ 9.6 ,  8.  ,  8.6 ],\n",
       "       [ 4.9 ,  5.55,  4.9 ],\n",
       "       [ 3.05,  4.55,  4.25],\n",
       "       [ 4.2 ,  5.1 ,  4.35],\n",
       "       [ 5.9 ,  5.65,  5.05],\n",
       "       [ 4.7 ,  6.1 ,  7.3 ],\n",
       "       [ 4.1 ,  4.3 ,  5.5 ],\n",
       "       [ 4.6 ,  4.8 ,  4.97],\n",
       "       [ 4.28,  6.02,  5.7 ],\n",
       "       [ 1.9 ,  1.9 ,  2.6 ],\n",
       "       [ 4.7 ,  4.7 ,  3.3 ],\n",
       "       [ 4.5 ,  5.3 ,  4.8 ],\n",
       "       [ 2.1 ,  4.2 ,  6.3 ],\n",
       "       [ 5.07,  4.5 ,  6.03],\n",
       "       [ 3.5 ,  5.9 ,  6.9 ],\n",
       "       [ 4.6 ,  5.1 ,  5.9 ],\n",
       "       [ 8.45,  8.75,  6.95],\n",
       "       [ 7.4 ,  6.6 ,  6.8 ],\n",
       "       [ 9.2 ,  7.2 ,  8.6 ],\n",
       "       [ 1.8 ,  1.8 ,  2.1 ],\n",
       "       [ 4.  ,  2.8 ,  4.  ],\n",
       "       [ 3.12,  3.12,  1.84],\n",
       "       [ 4.42,  2.84,  3.16],\n",
       "       [ 2.05,  3.87,  1.58],\n",
       "       [ 8.65,  7.65,  6.6 ],\n",
       "       [ 5.32,  3.46,  1.98],\n",
       "       [ 6.65,  3.54,  6.45],\n",
       "       [ 3.9 ,  1.4 ,  2.4 ],\n",
       "       [ 1.8 ,  2.27,  2.94],\n",
       "       [ 4.25,  0.9 ,  1.2 ],\n",
       "       [ 9.8 ,  7.6 ,  6.4 ],\n",
       "       [ 3.35,  3.3 ,  4.7 ],\n",
       "       [ 6.98,  7.6 ,  5.4 ],\n",
       "       [ 2.  ,  1.5 ,  3.8 ],\n",
       "       [ 3.89,  4.2 ,  3.9 ],\n",
       "       [ 5.  ,  4.8 ,  5.4 ],\n",
       "       [ 3.6 ,  3.33,  6.95],\n",
       "       [ 8.2 ,  8.8 ,  8.8 ],\n",
       "       [ 3.4 ,  4.02,  3.97],\n",
       "       [ 3.15,  3.15,  2.2 ],\n",
       "       [ 5.65,  6.6 ,  5.8 ],\n",
       "       [ 9.1 ,  9.65, 10.95],\n",
       "       [ 8.8 ,  7.9 ,  6.3 ],\n",
       "       [ 6.15,  5.85,  6.7 ],\n",
       "       [ 5.92,  6.58,  4.28],\n",
       "       [ 6.7 ,  4.65,  5.61],\n",
       "       [ 3.61,  2.91,  2.52],\n",
       "       [ 1.9 ,  2.86,  1.04],\n",
       "       [ 5.6 ,  6.9 ,  8.7 ],\n",
       "       [ 2.5 ,  2.8 ,  6.02],\n",
       "       [ 5.6 ,  7.  ,  7.8 ],\n",
       "       [ 9.  ,  4.8 ,  5.7 ],\n",
       "       [ 6.83,  5.95,  4.7 ],\n",
       "       [ 5.62,  7.1 ,  6.1 ],\n",
       "       [ 8.2 , 10.7 ,  7.3 ],\n",
       "       [ 6.4 ,  6.45,  6.5 ],\n",
       "       [ 6.5 ,  4.8 ,  3.9 ],\n",
       "       [ 4.2 ,  3.9 ,  4.1 ],\n",
       "       [ 3.7 ,  3.5 ,  3.3 ],\n",
       "       [11.5 ,  7.1 ,  9.  ],\n",
       "       [ 5.6 ,  4.1 ,  3.4 ],\n",
       "       [ 3.15,  3.05,  2.4 ],\n",
       "       [ 3.8 ,  5.2 ,  3.3 ],\n",
       "       [ 1.8 ,  1.9 ,  2.4 ],\n",
       "       [ 5.7 ,  5.3 ,  3.9 ],\n",
       "       [ 4.9 ,  4.6 ,  4.9 ],\n",
       "       [ 6.4 ,  6.4 ,  6.8 ],\n",
       "       [ 4.7 ,  3.6 ,  1.9 ],\n",
       "       [ 4.4 ,  5.7 ,  2.2 ],\n",
       "       [10.7 , 10.4 ,  8.  ],\n",
       "       [ 5.12,  4.4 ,  5.4 ],\n",
       "       [ 3.9 ,  5.  ,  5.4 ],\n",
       "       [ 6.5 ,  7.9 ,  4.9 ],\n",
       "       [ 5.7 ,  3.7 ,  5.2 ],\n",
       "       [ 7.  ,  7.3 ,  5.9 ],\n",
       "       [ 3.75,  2.52,  1.72],\n",
       "       [ 4.25,  4.25,  4.8 ],\n",
       "       [ 4.6 ,  3.1 ,  4.  ],\n",
       "       [ 6.8 ,  8.  ,  7.4 ],\n",
       "       [ 7.9 ,  8.3 ,  7.6 ],\n",
       "       [ 2.2 ,  5.  ,  5.8 ],\n",
       "       [ 5.6 ,  8.  ,  8.  ],\n",
       "       [ 6.  ,  6.8 ,  7.2 ],\n",
       "       [ 8.  ,  5.2 ,  7.8 ],\n",
       "       [ 3.1 ,  3.4 ,  4.1 ]])"
      ]
     },
     "execution_count": 39,
     "metadata": {},
     "output_type": "execute_result"
    }
   ],
   "source": [
    "# Removing Null Values using SimpleImputer MOST_FREQUENT METHOD -\n",
    "\n",
    "imputer = SimpleImputer(missing_values=np.nan, strategy='most_frequent')\n",
    "imputer.fit_transform(df_bod)"
   ]
  },
  {
   "cell_type": "code",
   "execution_count": 40,
   "metadata": {
    "ExecuteTime": {
     "end_time": "2020-09-21T10:06:16.665487Z",
     "start_time": "2020-09-21T10:06:16.611435Z"
    }
   },
   "outputs": [
    {
     "data": {
      "text/html": [
       "<div>\n",
       "<style scoped>\n",
       "    .dataframe tbody tr th:only-of-type {\n",
       "        vertical-align: middle;\n",
       "    }\n",
       "\n",
       "    .dataframe tbody tr th {\n",
       "        vertical-align: top;\n",
       "    }\n",
       "\n",
       "    .dataframe thead th {\n",
       "        text-align: right;\n",
       "    }\n",
       "</style>\n",
       "<table border=\"1\" class=\"dataframe\">\n",
       "  <thead>\n",
       "    <tr style=\"text-align: right;\">\n",
       "      <th></th>\n",
       "      <th>target</th>\n",
       "      <th>1</th>\n",
       "      <th>2</th>\n",
       "    </tr>\n",
       "  </thead>\n",
       "  <tbody>\n",
       "    <tr>\n",
       "      <td>0</td>\n",
       "      <td>5.85</td>\n",
       "      <td>4.80</td>\n",
       "      <td>5.85</td>\n",
       "    </tr>\n",
       "    <tr>\n",
       "      <td>1</td>\n",
       "      <td>4.28</td>\n",
       "      <td>5.88</td>\n",
       "      <td>6.84</td>\n",
       "    </tr>\n",
       "    <tr>\n",
       "      <td>2</td>\n",
       "      <td>3.97</td>\n",
       "      <td>3.20</td>\n",
       "      <td>2.70</td>\n",
       "    </tr>\n",
       "    <tr>\n",
       "      <td>3</td>\n",
       "      <td>5.95</td>\n",
       "      <td>7.70</td>\n",
       "      <td>7.06</td>\n",
       "    </tr>\n",
       "    <tr>\n",
       "      <td>4</td>\n",
       "      <td>4.70</td>\n",
       "      <td>5.50</td>\n",
       "      <td>5.30</td>\n",
       "    </tr>\n",
       "    <tr>\n",
       "      <td>...</td>\n",
       "      <td>...</td>\n",
       "      <td>...</td>\n",
       "      <td>...</td>\n",
       "    </tr>\n",
       "    <tr>\n",
       "      <td>142</td>\n",
       "      <td>2.20</td>\n",
       "      <td>5.00</td>\n",
       "      <td>5.80</td>\n",
       "    </tr>\n",
       "    <tr>\n",
       "      <td>143</td>\n",
       "      <td>5.60</td>\n",
       "      <td>8.00</td>\n",
       "      <td>8.00</td>\n",
       "    </tr>\n",
       "    <tr>\n",
       "      <td>144</td>\n",
       "      <td>6.00</td>\n",
       "      <td>6.80</td>\n",
       "      <td>7.20</td>\n",
       "    </tr>\n",
       "    <tr>\n",
       "      <td>145</td>\n",
       "      <td>8.00</td>\n",
       "      <td>5.20</td>\n",
       "      <td>7.80</td>\n",
       "    </tr>\n",
       "    <tr>\n",
       "      <td>146</td>\n",
       "      <td>3.10</td>\n",
       "      <td>3.40</td>\n",
       "      <td>4.10</td>\n",
       "    </tr>\n",
       "  </tbody>\n",
       "</table>\n",
       "<p>147 rows × 3 columns</p>\n",
       "</div>"
      ],
      "text/plain": [
       "     target     1     2\n",
       "0      5.85  4.80  5.85\n",
       "1      4.28  5.88  6.84\n",
       "2      3.97  3.20  2.70\n",
       "3      5.95  7.70  7.06\n",
       "4      4.70  5.50  5.30\n",
       "..      ...   ...   ...\n",
       "142    2.20  5.00  5.80\n",
       "143    5.60  8.00  8.00\n",
       "144    6.00  6.80  7.20\n",
       "145    8.00  5.20  7.80\n",
       "146    3.10  3.40  4.10\n",
       "\n",
       "[147 rows x 3 columns]"
      ]
     },
     "execution_count": 40,
     "metadata": {},
     "output_type": "execute_result"
    }
   ],
   "source": [
    "# Using KNNImputer for our case \n",
    "from sklearn.impute import KNNImputer\n",
    "\n",
    "impute =  KNNImputer(n_neighbors=5)\n",
    "df_bod[nan_cols] = imputer.fit_transform(df_bod[nan_cols])\n",
    "df_bod"
   ]
  },
  {
   "cell_type": "markdown",
   "metadata": {},
   "source": [
    "## Feature Engineering \n",
    "\n",
    "Creating a new feature which is just an average of the availbale ones."
   ]
  },
  {
   "cell_type": "code",
   "execution_count": 41,
   "metadata": {
    "ExecuteTime": {
     "end_time": "2020-09-21T10:06:16.752753Z",
     "start_time": "2020-09-21T10:06:16.671004Z"
    }
   },
   "outputs": [
    {
     "data": {
      "text/html": [
       "<div>\n",
       "<style scoped>\n",
       "    .dataframe tbody tr th:only-of-type {\n",
       "        vertical-align: middle;\n",
       "    }\n",
       "\n",
       "    .dataframe tbody tr th {\n",
       "        vertical-align: top;\n",
       "    }\n",
       "\n",
       "    .dataframe thead th {\n",
       "        text-align: right;\n",
       "    }\n",
       "</style>\n",
       "<table border=\"1\" class=\"dataframe\">\n",
       "  <thead>\n",
       "    <tr style=\"text-align: right;\">\n",
       "      <th></th>\n",
       "      <th>target</th>\n",
       "      <th>1</th>\n",
       "      <th>2</th>\n",
       "      <th>combined</th>\n",
       "    </tr>\n",
       "  </thead>\n",
       "  <tbody>\n",
       "    <tr>\n",
       "      <td>0</td>\n",
       "      <td>5.85</td>\n",
       "      <td>4.80</td>\n",
       "      <td>5.85</td>\n",
       "      <td>5.325</td>\n",
       "    </tr>\n",
       "    <tr>\n",
       "      <td>1</td>\n",
       "      <td>4.28</td>\n",
       "      <td>5.88</td>\n",
       "      <td>6.84</td>\n",
       "      <td>6.360</td>\n",
       "    </tr>\n",
       "    <tr>\n",
       "      <td>2</td>\n",
       "      <td>3.97</td>\n",
       "      <td>3.20</td>\n",
       "      <td>2.70</td>\n",
       "      <td>2.950</td>\n",
       "    </tr>\n",
       "    <tr>\n",
       "      <td>3</td>\n",
       "      <td>5.95</td>\n",
       "      <td>7.70</td>\n",
       "      <td>7.06</td>\n",
       "      <td>7.380</td>\n",
       "    </tr>\n",
       "    <tr>\n",
       "      <td>4</td>\n",
       "      <td>4.70</td>\n",
       "      <td>5.50</td>\n",
       "      <td>5.30</td>\n",
       "      <td>5.400</td>\n",
       "    </tr>\n",
       "  </tbody>\n",
       "</table>\n",
       "</div>"
      ],
      "text/plain": [
       "   target     1     2  combined\n",
       "0    5.85  4.80  5.85     5.325\n",
       "1    4.28  5.88  6.84     6.360\n",
       "2    3.97  3.20  2.70     2.950\n",
       "3    5.95  7.70  7.06     7.380\n",
       "4    4.70  5.50  5.30     5.400"
      ]
     },
     "execution_count": 41,
     "metadata": {},
     "output_type": "execute_result"
    }
   ],
   "source": [
    "df_bod.columns.to_list()[1:3]\n",
    "df_bod['combined'] = df_bod[df_bod.columns.to_list()[1:]].mean(axis=1)\n",
    "df_bod.head()"
   ]
  },
  {
   "cell_type": "code",
   "execution_count": 42,
   "metadata": {
    "ExecuteTime": {
     "end_time": "2020-09-21T10:06:17.470793Z",
     "start_time": "2020-09-21T10:06:16.761841Z"
    }
   },
   "outputs": [
    {
     "data": {
      "text/html": [
       "<div>\n",
       "<style scoped>\n",
       "    .dataframe tbody tr th:only-of-type {\n",
       "        vertical-align: middle;\n",
       "    }\n",
       "\n",
       "    .dataframe tbody tr th {\n",
       "        vertical-align: top;\n",
       "    }\n",
       "\n",
       "    .dataframe thead th {\n",
       "        text-align: right;\n",
       "    }\n",
       "</style>\n",
       "<table border=\"1\" class=\"dataframe\">\n",
       "  <thead>\n",
       "    <tr style=\"text-align: right;\">\n",
       "      <th></th>\n",
       "      <th>target</th>\n",
       "      <th>1</th>\n",
       "      <th>2</th>\n",
       "      <th>combined</th>\n",
       "    </tr>\n",
       "  </thead>\n",
       "  <tbody>\n",
       "    <tr>\n",
       "      <td>target</td>\n",
       "      <td>1.000000</td>\n",
       "      <td>0.755657</td>\n",
       "      <td>0.645696</td>\n",
       "      <td>0.753930</td>\n",
       "    </tr>\n",
       "    <tr>\n",
       "      <td>1</td>\n",
       "      <td>0.755657</td>\n",
       "      <td>1.000000</td>\n",
       "      <td>0.730224</td>\n",
       "      <td>0.931611</td>\n",
       "    </tr>\n",
       "    <tr>\n",
       "      <td>2</td>\n",
       "      <td>0.645696</td>\n",
       "      <td>0.730224</td>\n",
       "      <td>1.000000</td>\n",
       "      <td>0.928601</td>\n",
       "    </tr>\n",
       "    <tr>\n",
       "      <td>combined</td>\n",
       "      <td>0.753930</td>\n",
       "      <td>0.931611</td>\n",
       "      <td>0.928601</td>\n",
       "      <td>1.000000</td>\n",
       "    </tr>\n",
       "  </tbody>\n",
       "</table>\n",
       "</div>"
      ],
      "text/plain": [
       "            target         1         2  combined\n",
       "target    1.000000  0.755657  0.645696  0.753930\n",
       "1         0.755657  1.000000  0.730224  0.931611\n",
       "2         0.645696  0.730224  1.000000  0.928601\n",
       "combined  0.753930  0.931611  0.928601  1.000000"
      ]
     },
     "metadata": {},
     "output_type": "display_data"
    },
    {
     "data": {
      "text/plain": [
       "<matplotlib.axes._subplots.AxesSubplot at 0x7f42f0319c88>"
      ]
     },
     "execution_count": 42,
     "metadata": {},
     "output_type": "execute_result"
    },
    {
     "data": {
      "image/png": "[encoded data removed]",
      "text/plain": [
       "<Figure size 720x576 with 2 Axes>"
      ]
     },
     "metadata": {},
     "output_type": "display_data"
    }
   ],
   "source": [
    "# Finding the correlation for our new feature \n",
    "corr = df_bod[df_bod.columns.to_list()].corr()\n",
    "display(corr)\n",
    "plt.figure(figsize=(10,8))\n",
    "sns.heatmap(corr, \n",
    "        xticklabels=corr.columns,\n",
    "        yticklabels=corr.columns)"
   ]
  },
  {
   "cell_type": "markdown",
   "metadata": {},
   "source": [
    " Correlation between new feature and target value is also big enough, thus we will use it for models training."
   ]
  },
  {
   "cell_type": "markdown",
   "metadata": {},
   "source": [
    "## Standardization and Normalization\n",
    "\n",
    "### a. Standardization using StandardScaler()"
   ]
  },
  {
   "cell_type": "code",
   "execution_count": 43,
   "metadata": {
    "ExecuteTime": {
     "end_time": "2020-09-21T10:06:17.506780Z",
     "start_time": "2020-09-21T10:06:17.474046Z"
    }
   },
   "outputs": [
    {
     "data": {
      "text/plain": [
       "array([[ 0.39160691, -0.08415942,  0.47270337,  0.20576116],\n",
       "       [-0.35060348,  0.44964599,  0.97228596,  0.76146421],\n",
       "       [-0.49715458, -0.87498224, -1.11687758, -1.06940285],\n",
       "       [ 0.43888146,  1.34920694,  1.08330431,  1.30911359],\n",
       "       [-0.15205038,  0.26182557,  0.19515749,  0.2460295 ],\n",
       "       [-0.31278384, -0.02979035, -0.21863818, -0.13249287],\n",
       "       [-0.60588603, -0.62290746, -0.58197097, -0.64792759],\n",
       "       [ 1.26618604, -0.60313689, -0.66271159, -0.68014226],\n",
       "       [-0.79498422, -1.403845  ,  0.24562038, -0.63182025],\n",
       "       [-0.50188203, -1.34947593, -0.34984169, -0.91906772],\n",
       "       [-0.01968165,  0.36067842, -0.11771241,  0.13327815],\n",
       "       [ 0.83598766,  0.79563097, -1.106785  , -0.15665388],\n",
       "       [-1.42846316, -1.87833869, -1.74261738, -1.9472526 ],\n",
       "       [ 2.02257879,  1.2750673 ,  1.80996988,  1.65542129],\n",
       "       [-0.43569766,  0.18768593, -0.38516571, -0.10296276],\n",
       "       [-0.51606439, -0.94912188, -0.52646179, -0.79557816],\n",
       "       [-0.26078184, -0.11875792, -0.04201808, -0.08685542],\n",
       "       [-0.43569766, -0.72670296, -1.31872912, -1.09624841],\n",
       "       [-0.24659947, -0.08415942, -0.96548891, -0.55933725],\n",
       "       [-0.01022674,  0.16297271, -0.42553602, -0.13786198],\n",
       "       [ 0.34433237,  0.12837421, -0.05715694,  0.0393187 ],\n",
       "       [-0.53024676, -0.52899725, -0.05715694, -0.31772722],\n",
       "       [ 0.65161692,  0.31125199,  0.19515749,  0.27287505],\n",
       "       [-0.24659947, -0.28186512, -0.71317448, -0.53249169],\n",
       "       [ 1.26618604,  0.90436911,  1.25487812,  1.15877847],\n",
       "       [-0.71934495, -0.82555581, -1.0159518 , -0.98886618],\n",
       "       [ 0.98253875,  0.75608983,  0.49793482,  0.67555842],\n",
       "       [-0.24659947, -0.67727653, -0.20854561, -0.47880057],\n",
       "       [-0.38842312, -0.13358584, -0.56178582, -0.37141834],\n",
       "       [-1.33391406, -1.3692465 , -0.76363736, -1.14993952],\n",
       "       [ 1.26618604,  0.02457872,  0.24562038,  0.14401637],\n",
       "       [-0.19932493, -0.35600476, -0.68794303, -0.55933725],\n",
       "       [-0.81389404, -0.75141617, -1.11687758, -1.00228895],\n",
       "       [ 1.36073513,  0.65723698,  0.44747193,  0.59502175],\n",
       "       [-1.28663951, -1.31982008, -1.47011779, -1.49893178],\n",
       "       [-1.19209042,  1.79404478,  0.5483977 ,  1.2661607 ],\n",
       "       [-0.69570767, -0.47957083, -1.04118324, -0.81437005],\n",
       "       [ 0.1315969 , -1.27039365, -1.11687758, -1.28416731],\n",
       "       [ 0.84071511,  0.75608983,  1.10348946,  0.99770512],\n",
       "       [-0.87535095, -0.72670296,  0.61399946, -0.06806353],\n",
       "       [-1.4757377 , -1.41867293, -1.16734046, -1.39154955],\n",
       "       [-0.2229622 ,  1.15150124,  0.5483977 ,  0.91716845],\n",
       "       [-0.95571768,  0.01469343, -0.81410025, -0.42510946],\n",
       "       [-0.53024676, -0.38071798,  0.29608327, -0.04927164],\n",
       "       [ 0.46251873,  0.80551625,  0.85117503,  0.89032289],\n",
       "       [-0.37424075, -0.4301444 , -0.30947138, -0.3982639 ],\n",
       "       [ 0.79344056,  0.55838412,  0.73511039,  0.69435031],\n",
       "       [-0.15205038, -0.28186512, -0.6122487 , -0.47880057],\n",
       "       [-1.42846316, -0.72670296, -0.66271159, -0.74725615],\n",
       "       [-0.08113856,  0.48424448,  0.11946316,  0.32656617],\n",
       "       [ 0.88798966,  1.0773616 ,  0.64932348,  0.93059123],\n",
       "       [ 0.17887145, -0.08415942,  0.24562038,  0.08495615],\n",
       "       [-0.29387402, -0.34611948, -0.35993427, -0.37947201],\n",
       "       [-0.38842312, -0.28186512,  0.39700904,  0.05811059],\n",
       "       [ 3.15716792,  2.93085258,  0.49793482,  1.85676298],\n",
       "       [-0.15205038,  0.21239914,  3.07154206,  1.74938075],\n",
       "       [-1.75938499, -0.08415942, -1.52058067, -0.85463838],\n",
       "       [-1.00299223, -0.82555581, -0.41039715, -0.66671948],\n",
       "       [-0.13786802, -0.49439876,  0.09423172, -0.21839866],\n",
       "       [ 0.17887145,  1.4480598 ,  0.90163791,  1.2661607 ],\n",
       "       [-1.28663951, -1.76465791, -1.16734046, -1.57946845],\n",
       "       [-1.71211044, -1.61637863, -1.62150645, -1.7405418 ],\n",
       "       [ 2.16440243,  1.49748622,  1.86043277,  1.80307186],\n",
       "       [-0.05750129,  0.28653878, -0.00669406,  0.15207004],\n",
       "       [-0.93208041, -0.20772548, -0.33470282, -0.29088167],\n",
       "       [-0.38842312,  0.06411986, -0.28423994, -0.11638554],\n",
       "       [ 0.41524419,  0.33596521,  0.06900027,  0.21918394],\n",
       "       [-0.15205038,  0.55838412,  1.20441524,  0.944014  ],\n",
       "       [-0.43569766, -0.33129155,  0.29608327, -0.02242609],\n",
       "       [-0.19932493, -0.08415942,  0.02862996, -0.03047975],\n",
       "       [-0.35060348,  0.51884298,  0.39700904,  0.49300863],\n",
       "       [-1.4757377 , -1.51752578, -1.16734046, -1.44524066],\n",
       "       [-0.15205038, -0.13358584, -0.81410025, -0.50564613],\n",
       "       [-0.24659947,  0.16297271, -0.05715694,  0.05811059],\n",
       "       [-1.38118861, -0.38071798,  0.69978636,  0.16549282],\n",
       "       [ 0.02286544, -0.2324387 ,  0.56353657,  0.17354649],\n",
       "       [-0.71934495,  0.45953127,  1.00256369,  0.78294066],\n",
       "       [-0.19932493,  0.06411986,  0.49793482,  0.29972061],\n",
       "       [ 1.62074514,  1.86818442,  1.02779513,  1.56146184],\n",
       "       [ 1.12436239,  0.80551625,  0.9521008 ,  0.944014  ],\n",
       "       [ 1.97530424,  1.10207481,  1.86043277,  1.5883074 ],\n",
       "       [-1.52301225, -1.56695221, -1.4196549 , -1.60631401],\n",
       "       [-0.48297221, -1.07268794, -0.46086004, -0.82779283],\n",
       "       [-0.89898823, -0.91452338, -1.55085841, -1.32175109],\n",
       "       [-0.28441911, -1.05291737, -0.88474829, -1.04255729],\n",
       "       [-1.40482588, -0.54382518, -1.68206191, -1.19020786],\n",
       "       [ 1.71529423,  1.32449373,  0.85117503,  1.17220125],\n",
       "       [ 0.14105181, -0.74647353, -1.48021036, -1.19289242],\n",
       "       [ 0.76980329, -0.70693239,  0.7754807 ,  0.02858048],\n",
       "       [-0.53024676, -1.76465791, -1.26826624, -1.63315957],\n",
       "       [-1.52301225, -1.334648  , -0.99576665, -1.2546372 ],\n",
       "       [-0.36478584, -2.01179004, -1.87382088, -2.08953406],\n",
       "       [ 2.25895153,  1.29978052,  0.75024925,  1.10508735],\n",
       "       [-0.79025677, -0.82555581, -0.10761983, -0.50564613],\n",
       "       [ 0.9258093 ,  1.29978052,  0.24562038,  0.83663177],\n",
       "       [-1.42846316, -1.71523149, -0.56178582, -1.2304762 ],\n",
       "       [-0.53497421, -0.38071798, -0.51132293, -0.47880057],\n",
       "       [-0.01022674, -0.08415942,  0.24562038,  0.08495615],\n",
       "       [-0.6720704 , -0.81072788,  1.02779513,  0.10643259],\n",
       "       [ 1.50255877,  1.89289763,  1.96135855,  2.07152744],\n",
       "       [-0.76661949, -0.46968554, -0.47599891, -0.50833069],\n",
       "       [-0.88480586, -0.89969545, -1.36919201, -1.21705342],\n",
       "       [ 0.29705782,  0.80551625,  0.44747193,  0.67555842],\n",
       "       [ 1.9280297 ,  2.31302226,  3.04631062,  2.87689418],\n",
       "       [ 1.78620606,  1.4480598 ,  0.69978636,  1.15877847],\n",
       "       [ 0.53343055,  0.43481806,  0.90163791,  0.71582676],\n",
       "       [ 0.4246991 ,  0.79563097, -0.31956396,  0.26213683],\n",
       "       [ 0.79344056, -0.15829906,  0.35159244,  0.10106348],\n",
       "       [-0.66734295, -1.01831888, -1.20771077, -1.19557697],\n",
       "       [-1.4757377 , -1.04303209, -1.9545615 , -1.60631401],\n",
       "       [ 0.27342054,  0.95379553,  1.91089566,  1.53461628],\n",
       "       [-1.19209042, -1.07268794,  0.55849028, -0.28551255],\n",
       "       [ 0.27342054,  1.00322196,  1.45672967,  1.31985182],\n",
       "       [ 1.88075515, -0.08415942,  0.39700904,  0.16549282],\n",
       "       [ 0.85489748,  0.48424448, -0.10761983,  0.20576116],\n",
       "       [ 0.28287545,  1.05264839,  0.59886059,  0.89032289],\n",
       "       [ 1.50255877,  2.83199973,  1.20441524,  2.17890968],\n",
       "       [ 0.65161692,  0.73137662,  0.80071214,  0.82320899],\n",
       "       [ 0.69889147, -0.08415942, -0.51132293, -0.31772722],\n",
       "       [-0.38842312, -0.52899725, -0.41039715, -0.50564613],\n",
       "       [-0.62479585, -0.72670296, -0.81410025, -0.82779283],\n",
       "       [ 3.06261883,  1.05264839,  2.06228432,  1.66884407],\n",
       "       [ 0.27342054, -0.4301444 , -0.76363736, -0.63987392],\n",
       "       [-0.88480586, -0.94912188, -1.26826624, -1.19020786],\n",
       "       [-0.57752131,  0.11354629, -0.81410025, -0.37141834],\n",
       "       [-1.52301225, -1.51752578, -1.26826624, -1.49893178],\n",
       "       [ 0.32069509,  0.16297271, -0.51132293, -0.18349943],\n",
       "       [-0.05750129, -0.18301227, -0.00669406, -0.10296276],\n",
       "       [ 0.65161692,  0.7066634 ,  0.9521008 ,  0.89032289],\n",
       "       [-0.15205038, -0.67727653, -1.52058067, -1.17678508],\n",
       "       [-0.29387402,  0.36067842, -1.36919201, -0.53249169],\n",
       "       [ 2.68442245,  2.68372045,  1.55765545,  2.28629191],\n",
       "       [ 0.04650272, -0.28186512,  0.24562038, -0.02242609],\n",
       "       [-0.53024676,  0.01469343,  0.24562038,  0.13864726],\n",
       "       [ 0.69889147,  1.4480598 , -0.00669406,  0.78294066],\n",
       "       [ 0.32069509, -0.62785011,  0.14469461, -0.26403611],\n",
       "       [ 0.93526421,  1.15150124,  0.49793482,  0.89032289],\n",
       "       [-0.60115858, -1.21108194, -1.61141387, -1.51503911],\n",
       "       [-0.36478584, -0.35600476, -0.05715694, -0.22376777],\n",
       "       [-0.19932493, -0.92440867, -0.46086004, -0.74725615],\n",
       "       [ 0.84071511,  1.49748622,  1.25487812,  1.48092517],\n",
       "       [ 1.36073513,  1.6457655 ,  1.3558039 ,  1.61515296],\n",
       "       [-1.33391406,  0.01469343,  0.44747193,  0.2460295 ],\n",
       "       [ 0.27342054,  1.49748622,  1.55765545,  1.64199851],\n",
       "       [ 0.46251873,  0.90436911,  1.15395235,  1.10508735],\n",
       "       [ 1.40800968,  0.11354629,  1.45672967,  0.83663177],\n",
       "       [-0.90844314, -0.77612939, -0.41039715, -0.63987392]])"
      ]
     },
     "execution_count": 43,
     "metadata": {},
     "output_type": "execute_result"
    }
   ],
   "source": [
    "from sklearn.preprocessing import StandardScaler\n",
    "ss = StandardScaler()\n",
    "ss.fit_transform(df_bod)"
   ]
  },
  {
   "cell_type": "markdown",
   "metadata": {},
   "source": [
    "### b. Normalization using Normalizer()"
   ]
  },
  {
   "cell_type": "markdown",
   "metadata": {},
   "source": [
    "### Max Normalizer"
   ]
  },
  {
   "cell_type": "code",
   "execution_count": 44,
   "metadata": {
    "ExecuteTime": {
     "end_time": "2020-09-21T10:06:17.612330Z",
     "start_time": "2020-09-21T10:06:17.509541Z"
    }
   },
   "outputs": [
    {
     "data": {
      "text/plain": [
       "array([[1.        , 0.82051282, 1.        , 0.91025641],\n",
       "       [0.62573099, 0.85964912, 1.        , 0.92982456],\n",
       "       [1.        , 0.80604534, 0.68010076, 0.74307305],\n",
       "       [0.77272727, 1.        , 0.91688312, 0.95844156],\n",
       "       [0.85454545, 1.        , 0.96363636, 0.98181818],\n",
       "       [0.88798371, 1.        , 0.91242363, 0.95621181],\n",
       "       [0.99468085, 0.98670213, 1.        , 0.99335106],\n",
       "       [1.        , 0.48701299, 0.46753247, 0.47727273],\n",
       "       [0.61851852, 0.39444444, 1.        , 0.69722222],\n",
       "       [0.93838863, 0.53080569, 1.        , 0.76540284],\n",
       "       [0.87368421, 1.        , 0.82105263, 0.91052632],\n",
       "       [1.        , 0.96907216, 0.4005891 , 0.68483063],\n",
       "       [1.        , 0.585     , 0.73      , 0.6575    ],\n",
       "       [1.        , 0.81182796, 0.91397849, 0.86290323],\n",
       "       [0.76635514, 1.        , 0.77570093, 0.88785047],\n",
       "       [1.        , 0.77608142, 0.98473282, 0.88040712],\n",
       "       [0.92546584, 0.97929607, 1.        , 0.98964803],\n",
       "       [1.        , 0.85365854, 0.56097561, 0.70731707],\n",
       "       [0.9375    , 1.        , 0.625     , 0.8125    ],\n",
       "       [0.94339623, 1.        , 0.76792453, 0.88396226],\n",
       "       [1.        , 0.90956522, 0.83478261, 0.87217391],\n",
       "       [0.8125    , 0.8125    , 1.        , 0.90625   ],\n",
       "       [1.        , 0.875     , 0.828125  , 0.8515625 ],\n",
       "       [1.        , 0.97777778, 0.77777778, 0.87777778],\n",
       "       [1.        , 0.88311688, 0.96103896, 0.92207792],\n",
       "       [1.        , 0.94285714, 0.82857143, 0.88571429],\n",
       "       [1.        , 0.91549296, 0.83098592, 0.87323944],\n",
       "       [1.        , 0.8       , 1.        , 0.9       ],\n",
       "       [0.89361702, 1.        , 0.80851064, 0.90425532],\n",
       "       [0.64705882, 0.64705882, 1.        , 0.82352941],\n",
       "       [1.        , 0.65194805, 0.7012987 , 0.67662338],\n",
       "       [1.        , 0.92391304, 0.77173913, 0.84782609],\n",
       "       [0.95652174, 1.        , 0.7826087 , 0.89130435],\n",
       "       [1.        , 0.79746835, 0.73417722, 0.76582278],\n",
       "       [1.        , 1.        , 0.86956522, 0.93478261],\n",
       "       [0.29069767, 1.        , 0.69767442, 0.84883721],\n",
       "       [0.8875    , 1.        , 0.7125    , 0.85625   ],\n",
       "       [1.        , 0.45283019, 0.50943396, 0.48113208],\n",
       "       [0.95774648, 0.91549296, 1.        , 0.95774648],\n",
       "       [0.51712887, 0.57096248, 1.        , 0.78548124],\n",
       "       [0.73076923, 0.80769231, 1.        , 0.90384615],\n",
       "       [0.62328767, 1.        , 0.82191781, 0.9109589 ],\n",
       "       [0.6       , 1.        , 0.66      , 0.83      ],\n",
       "       [0.70909091, 0.76363636, 1.        , 0.88181818],\n",
       "       [0.90909091, 1.        , 1.        , 1.        ],\n",
       "       [0.98372093, 0.95348837, 1.        , 0.97674419],\n",
       "       [1.        , 0.91044776, 0.95074627, 0.93059701],\n",
       "       [1.        , 0.93617021, 0.78723404, 0.86170213],\n",
       "       [0.55555556, 0.97222222, 1.        , 0.98611111],\n",
       "       [0.81512605, 1.        , 0.86554622, 0.93277311],\n",
       "       [0.96503497, 1.        , 0.86713287, 0.93356643],\n",
       "       [1.        , 0.88888889, 1.        , 0.94444444],\n",
       "       [1.        , 0.97045455, 0.95454545, 0.9625    ],\n",
       "       [0.73684211, 0.77192982, 1.        , 0.88596491],\n",
       "       [1.        , 0.93162393, 0.5042735 , 0.71794872],\n",
       "       [0.42727273, 0.49090909, 1.        , 0.74545455],\n",
       "       [0.27083333, 1.        , 0.39583333, 0.69791667],\n",
       "       [0.70731707, 0.80487805, 1.        , 0.90243902],\n",
       "       [0.92745098, 0.77843137, 1.        , 0.88921569],\n",
       "       [0.6835443 , 1.        , 0.84810127, 0.92405063],\n",
       "       [0.88461538, 0.53846154, 1.        , 0.76923077],\n",
       "       [0.82352941, 1.        , 1.        , 1.        ],\n",
       "       [1.        , 0.83333333, 0.89583333, 0.86458333],\n",
       "       [0.88288288, 1.        , 0.88288288, 0.94144144],\n",
       "       [0.67032967, 1.        , 0.93406593, 0.96703297],\n",
       "       [0.82352941, 1.        , 0.85294118, 0.92647059],\n",
       "       [1.        , 0.95762712, 0.8559322 , 0.90677966],\n",
       "       [0.64383562, 0.83561644, 1.        , 0.91780822],\n",
       "       [0.74545455, 0.78181818, 1.        , 0.89090909],\n",
       "       [0.92555332, 0.96579477, 1.        , 0.98289738],\n",
       "       [0.71096346, 1.        , 0.94684385, 0.97342193],\n",
       "       [0.73076923, 0.73076923, 1.        , 0.86538462],\n",
       "       [1.        , 1.        , 0.70212766, 0.85106383],\n",
       "       [0.8490566 , 1.        , 0.90566038, 0.95283019],\n",
       "       [0.33333333, 0.66666667, 1.        , 0.83333333],\n",
       "       [0.84079602, 0.74626866, 1.        , 0.87313433],\n",
       "       [0.50724638, 0.85507246, 1.        , 0.92753623],\n",
       "       [0.77966102, 0.86440678, 1.        , 0.93220339],\n",
       "       [0.96571429, 1.        , 0.79428571, 0.89714286],\n",
       "       [1.        , 0.89189189, 0.91891892, 0.90540541],\n",
       "       [1.        , 0.7826087 , 0.93478261, 0.85869565],\n",
       "       [0.85714286, 0.85714286, 1.        , 0.92857143],\n",
       "       [1.        , 0.7       , 1.        , 0.85      ],\n",
       "       [1.        , 1.        , 0.58974359, 0.79487179],\n",
       "       [1.        , 0.64253394, 0.71493213, 0.67873303],\n",
       "       [0.52971576, 1.        , 0.40826873, 0.70413437],\n",
       "       [1.        , 0.88439306, 0.76300578, 0.82369942],\n",
       "       [1.        , 0.65037594, 0.37218045, 0.5112782 ],\n",
       "       [1.        , 0.53233083, 0.96992481, 0.75112782],\n",
       "       [1.        , 0.35897436, 0.61538462, 0.48717949],\n",
       "       [0.6122449 , 0.77210884, 1.        , 0.88605442],\n",
       "       [1.        , 0.21176471, 0.28235294, 0.24705882],\n",
       "       [1.        , 0.7755102 , 0.65306122, 0.71428571],\n",
       "       [0.71276596, 0.70212766, 1.        , 0.85106383],\n",
       "       [0.91842105, 1.        , 0.71052632, 0.85526316],\n",
       "       [0.52631579, 0.39473684, 1.        , 0.69736842],\n",
       "       [0.92619048, 1.        , 0.92857143, 0.96428571],\n",
       "       [0.92592593, 0.88888889, 1.        , 0.94444444],\n",
       "       [0.51798561, 0.47913669, 1.        , 0.73956835],\n",
       "       [0.93181818, 1.        , 1.        , 1.        ],\n",
       "       [0.84577114, 1.        , 0.98756219, 0.99378109],\n",
       "       [1.        , 1.        , 0.6984127 , 0.84920635],\n",
       "       [0.85606061, 1.        , 0.87878788, 0.93939394],\n",
       "       [0.83105023, 0.88127854, 1.        , 0.94063927],\n",
       "       [1.        , 0.89772727, 0.71590909, 0.80681818],\n",
       "       [0.91791045, 0.87313433, 1.        , 0.93656716],\n",
       "       [0.89969605, 1.        , 0.65045593, 0.82522796],\n",
       "       [1.        , 0.69402985, 0.83731343, 0.76567164],\n",
       "       [1.        , 0.80609418, 0.69806094, 0.75207756],\n",
       "       [0.66433566, 1.        , 0.36363636, 0.68181818],\n",
       "       [0.64367816, 0.79310345, 1.        , 0.89655172],\n",
       "       [0.41528239, 0.46511628, 1.        , 0.73255814],\n",
       "       [0.71794872, 0.8974359 , 1.        , 0.94871795],\n",
       "       [1.        , 0.53333333, 0.63333333, 0.58333333],\n",
       "       [1.        , 0.87115666, 0.68814056, 0.77964861],\n",
       "       [0.7915493 , 1.        , 0.85915493, 0.92957746],\n",
       "       [0.76635514, 1.        , 0.68224299, 0.8411215 ],\n",
       "       [0.98461538, 0.99230769, 1.        , 0.99615385],\n",
       "       [1.        , 0.73846154, 0.6       , 0.66923077],\n",
       "       [1.        , 0.92857143, 0.97619048, 0.95238095],\n",
       "       [1.        , 0.94594595, 0.89189189, 0.91891892],\n",
       "       [1.        , 0.6173913 , 0.7826087 , 0.7       ],\n",
       "       [1.        , 0.73214286, 0.60714286, 0.66964286],\n",
       "       [1.        , 0.96825397, 0.76190476, 0.86507937],\n",
       "       [0.73076923, 1.        , 0.63461538, 0.81730769],\n",
       "       [0.75      , 0.79166667, 1.        , 0.89583333],\n",
       "       [1.        , 0.92982456, 0.68421053, 0.80701754],\n",
       "       [1.        , 0.93877551, 1.        , 0.96938776],\n",
       "       [0.94117647, 0.94117647, 1.        , 0.97058824],\n",
       "       [1.        , 0.76595745, 0.40425532, 0.58510638],\n",
       "       [0.77192982, 1.        , 0.38596491, 0.69298246],\n",
       "       [1.        , 0.97196262, 0.74766355, 0.85981308],\n",
       "       [0.94814815, 0.81481481, 1.        , 0.90740741],\n",
       "       [0.72222222, 0.92592593, 1.        , 0.96296296],\n",
       "       [0.82278481, 1.        , 0.62025316, 0.81012658],\n",
       "       [1.        , 0.64912281, 0.9122807 , 0.78070175],\n",
       "       [0.95890411, 1.        , 0.80821918, 0.90410959],\n",
       "       [1.        , 0.672     , 0.45866667, 0.56533333],\n",
       "       [0.88541667, 0.88541667, 1.        , 0.94270833],\n",
       "       [1.        , 0.67391304, 0.86956522, 0.77173913],\n",
       "       [0.85      , 1.        , 0.925     , 0.9625    ],\n",
       "       [0.95180723, 1.        , 0.91566265, 0.95783133],\n",
       "       [0.37931034, 0.86206897, 1.        , 0.93103448],\n",
       "       [0.7       , 1.        , 1.        , 1.        ],\n",
       "       [0.83333333, 0.94444444, 1.        , 0.97222222],\n",
       "       [1.        , 0.65      , 0.975     , 0.8125    ],\n",
       "       [0.75609756, 0.82926829, 1.        , 0.91463415]])"
      ]
     },
     "execution_count": 44,
     "metadata": {},
     "output_type": "execute_result"
    }
   ],
   "source": [
    "# Performing Max Normalization\n",
    "from sklearn.preprocessing import Normalizer\n",
    "n_max=Normalizer(norm=\"max\")\n",
    "n_max.fit_transform(df_bod)"
   ]
  },
  {
   "cell_type": "markdown",
   "metadata": {},
   "source": [
    "### L1 Normalizer"
   ]
  },
  {
   "cell_type": "code",
   "execution_count": 45,
   "metadata": {
    "ExecuteTime": {
     "end_time": "2020-09-21T10:06:17.695627Z",
     "start_time": "2020-09-21T10:06:17.616415Z"
    }
   },
   "outputs": [
    {
     "data": {
      "text/plain": [
       "array([[0.26804124, 0.21993127, 0.26804124, 0.24398625],\n",
       "       [0.18321918, 0.25171233, 0.29280822, 0.27226027],\n",
       "       [0.30967239, 0.24960998, 0.21060842, 0.2301092 ],\n",
       "       [0.21181915, 0.2741189 , 0.25133499, 0.26272695],\n",
       "       [0.22488038, 0.26315789, 0.25358852, 0.25837321],\n",
       "       [0.23637842, 0.2661968 , 0.24288425, 0.25454053],\n",
       "       [0.25025092, 0.24824356, 0.25158916, 0.24991636],\n",
       "       [0.41121495, 0.20026702, 0.19225634, 0.19626168],\n",
       "       [0.22822002, 0.14554151, 0.36897848, 0.25725999],\n",
       "       [0.29010989, 0.16410256, 0.30915751, 0.23663004],\n",
       "       [0.24233577, 0.27737226, 0.22773723, 0.25255474],\n",
       "       [0.32738669, 0.31726133, 0.13114754, 0.22420444],\n",
       "       [0.33641716, 0.19680404, 0.24558452, 0.22119428],\n",
       "       [0.27865169, 0.22621723, 0.25468165, 0.24044944],\n",
       "       [0.22343324, 0.29155313, 0.22615804, 0.25885559],\n",
       "       [0.27463312, 0.21313767, 0.27044025, 0.24178896],\n",
       "       [0.23763955, 0.25146199, 0.25677831, 0.25412015],\n",
       "       [0.3203125 , 0.2734375 , 0.1796875 , 0.2265625 ],\n",
       "       [0.27777778, 0.2962963 , 0.18518519, 0.24074074],\n",
       "       [0.26239832, 0.27814222, 0.21359223, 0.24586723],\n",
       "       [0.27650878, 0.25150277, 0.23082472, 0.24116374],\n",
       "       [0.2300885 , 0.2300885 , 0.28318584, 0.25663717],\n",
       "       [0.28131868, 0.24615385, 0.23296703, 0.23956044],\n",
       "       [0.27522936, 0.26911315, 0.21406728, 0.24159021],\n",
       "       [0.26551724, 0.23448276, 0.25517241, 0.24482759],\n",
       "       [0.2734375 , 0.2578125 , 0.2265625 , 0.2421875 ],\n",
       "       [0.27626459, 0.25291829, 0.22957198, 0.24124514],\n",
       "       [0.27027027, 0.21621622, 0.27027027, 0.24324324],\n",
       "       [0.24778761, 0.27728614, 0.22418879, 0.25073746],\n",
       "       [0.20754717, 0.20754717, 0.32075472, 0.26415094],\n",
       "       [0.33004715, 0.2151736 , 0.23146164, 0.22331762],\n",
       "       [0.28220859, 0.2607362 , 0.21779141, 0.2392638 ],\n",
       "       [0.26347305, 0.2754491 , 0.21556886, 0.24550898],\n",
       "       [0.30326296, 0.24184261, 0.22264875, 0.23224568],\n",
       "       [0.26285714, 0.26285714, 0.22857143, 0.24571429],\n",
       "       [0.10245902, 0.35245902, 0.24590164, 0.29918033],\n",
       "       [0.25678119, 0.28933092, 0.20614828, 0.2477396 ],\n",
       "       [0.40926641, 0.18532819, 0.20849421, 0.1969112 ],\n",
       "       [0.25      , 0.23897059, 0.26102941, 0.25      ],\n",
       "       [0.17996026, 0.19869429, 0.34799886, 0.27334658],\n",
       "       [0.2122905 , 0.23463687, 0.29050279, 0.26256983],\n",
       "       [0.18571429, 0.29795918, 0.24489796, 0.27142857],\n",
       "       [0.19417476, 0.3236246 , 0.21359223, 0.26860841],\n",
       "       [0.21138211, 0.22764228, 0.29810298, 0.26287263],\n",
       "       [0.23255814, 0.25581395, 0.25581395, 0.25581395],\n",
       "       [0.2513369 , 0.2436126 , 0.25549614, 0.24955437],\n",
       "       [0.26372761, 0.24011021, 0.25073804, 0.24542413],\n",
       "       [0.27893175, 0.2611276 , 0.21958457, 0.24035608],\n",
       "       [0.15810277, 0.27667984, 0.28458498, 0.28063241],\n",
       "       [0.2255814 , 0.27674419, 0.23953488, 0.25813953],\n",
       "       [0.25626741, 0.26555246, 0.23026927, 0.24791086],\n",
       "       [0.26086957, 0.23188406, 0.26086957, 0.24637681],\n",
       "       [0.25723473, 0.24963461, 0.24554224, 0.24758842],\n",
       "       [0.21705426, 0.22739018, 0.29457364, 0.26098191],\n",
       "       [0.31707317, 0.29539295, 0.1598916 , 0.22764228],\n",
       "       [0.16040956, 0.18430034, 0.37542662, 0.27986348],\n",
       "       [0.11453744, 0.42290749, 0.16740088, 0.29515419],\n",
       "       [0.20714286, 0.23571429, 0.29285714, 0.26428571],\n",
       "       [0.25797655, 0.21652577, 0.27815653, 0.24734115],\n",
       "       [0.1978022 , 0.28937729, 0.24542125, 0.26739927],\n",
       "       [0.27710843, 0.1686747 , 0.31325301, 0.24096386],\n",
       "       [0.21538462, 0.26153846, 0.26153846, 0.26153846],\n",
       "       [0.27826087, 0.23188406, 0.24927536, 0.24057971],\n",
       "       [0.2381531 , 0.26974484, 0.2381531 , 0.25394897],\n",
       "       [0.18769231, 0.28      , 0.26153846, 0.27076923],\n",
       "       [0.22857143, 0.27755102, 0.23673469, 0.25714286],\n",
       "       [0.26879271, 0.25740319, 0.23006834, 0.24373576],\n",
       "       [0.18951613, 0.24596774, 0.29435484, 0.27016129],\n",
       "       [0.21808511, 0.2287234 , 0.29255319, 0.2606383 ],\n",
       "       [0.23889899, 0.2492859 , 0.25811478, 0.25370034],\n",
       "       [0.1957914 , 0.27538884, 0.26075023, 0.26806953],\n",
       "       [0.21965318, 0.21965318, 0.30057803, 0.26011561],\n",
       "       [0.28143713, 0.28143713, 0.19760479, 0.23952096],\n",
       "       [0.22900763, 0.2697201 , 0.24427481, 0.25699746],\n",
       "       [0.11764706, 0.23529412, 0.35294118, 0.29411765],\n",
       "       [0.24299065, 0.21567218, 0.28900072, 0.25233645],\n",
       "       [0.15418502, 0.25991189, 0.30396476, 0.28193833],\n",
       "       [0.21800948, 0.24170616, 0.27962085, 0.26066351],\n",
       "       [0.2640625 , 0.2734375 , 0.2171875 , 0.2453125 ],\n",
       "       [0.26909091, 0.24      , 0.24727273, 0.24363636],\n",
       "       [0.27963526, 0.21884498, 0.26139818, 0.24012158],\n",
       "       [0.23529412, 0.23529412, 0.2745098 , 0.25490196],\n",
       "       [0.28169014, 0.1971831 , 0.28169014, 0.23943662],\n",
       "       [0.29545455, 0.29545455, 0.17424242, 0.23484848],\n",
       "       [0.32935917, 0.21162444, 0.23546945, 0.22354694],\n",
       "       [0.200489  , 0.37848411, 0.15452323, 0.26650367],\n",
       "       [0.28809326, 0.25478768, 0.21981682, 0.23730225],\n",
       "       [0.39465875, 0.25667656, 0.14688427, 0.20178042],\n",
       "       [0.30737231, 0.16362376, 0.29812803, 0.2308759 ],\n",
       "       [0.40625   , 0.14583333, 0.25      , 0.19791667],\n",
       "       [0.18720749, 0.23608944, 0.30577223, 0.27093084],\n",
       "       [0.57432432, 0.12162162, 0.16216216, 0.14189189],\n",
       "       [0.31818182, 0.24675325, 0.20779221, 0.22727273],\n",
       "       [0.21824104, 0.21498371, 0.30618893, 0.26058632],\n",
       "       [0.26359517, 0.28700906, 0.20392749, 0.24546828],\n",
       "       [0.20100503, 0.15075377, 0.38190955, 0.26633166],\n",
       "       [0.2425187 , 0.26184539, 0.24314214, 0.25249377],\n",
       "       [0.24630542, 0.2364532 , 0.26600985, 0.25123153],\n",
       "       [0.18927445, 0.17507886, 0.36540484, 0.27024185],\n",
       "       [0.23699422, 0.25433526, 0.25433526, 0.25433526],\n",
       "       [0.22099448, 0.26129347, 0.25804355, 0.25966851],\n",
       "       [0.28187919, 0.28187919, 0.19686801, 0.2393736 ],\n",
       "       [0.23298969, 0.27216495, 0.23917526, 0.2556701 ],\n",
       "       [0.2275    , 0.24125   , 0.27375   , 0.2575    ],\n",
       "       [0.2923588 , 0.26245847, 0.20930233, 0.2358804 ],\n",
       "       [0.24624625, 0.23423423, 0.26826827, 0.25125125],\n",
       "       [0.2665466 , 0.29626294, 0.19270599, 0.24448447],\n",
       "       [0.30330466, 0.21050249, 0.25396107, 0.23223178],\n",
       "       [0.30710336, 0.24755423, 0.21437686, 0.23096555],\n",
       "       [0.24516129, 0.36903226, 0.13419355, 0.2516129 ],\n",
       "       [0.19310345, 0.23793103, 0.3       , 0.26896552],\n",
       "       [0.15893198, 0.17800381, 0.3827082 , 0.28035601],\n",
       "       [0.20143885, 0.25179856, 0.28057554, 0.26618705],\n",
       "       [0.36363636, 0.19393939, 0.23030303, 0.21212121],\n",
       "       [0.29949572, 0.2609077 , 0.20609515, 0.23350143],\n",
       "       [0.22108576, 0.27930763, 0.23996853, 0.25963808],\n",
       "       [0.23295455, 0.30397727, 0.20738636, 0.25568182],\n",
       "       [0.24782188, 0.24975799, 0.25169409, 0.25072604],\n",
       "       [0.33248082, 0.2455243 , 0.19948849, 0.22250639],\n",
       "       [0.25925926, 0.24074074, 0.25308642, 0.24691358],\n",
       "       [0.26618705, 0.25179856, 0.23741007, 0.24460432],\n",
       "       [0.32258065, 0.19915849, 0.25245442, 0.22580645],\n",
       "       [0.33234421, 0.24332344, 0.20178042, 0.22255193],\n",
       "       [0.2781457 , 0.26931567, 0.21192053, 0.2406181 ],\n",
       "       [0.22960725, 0.3141994 , 0.19939577, 0.25679758],\n",
       "       [0.21818182, 0.23030303, 0.29090909, 0.26060606],\n",
       "       [0.29230769, 0.27179487, 0.2       , 0.23589744],\n",
       "       [0.25587467, 0.24020888, 0.25587467, 0.24804178],\n",
       "       [0.24427481, 0.24427481, 0.25954198, 0.2519084 ],\n",
       "       [0.36293436, 0.27799228, 0.14671815, 0.21235521],\n",
       "       [0.27076923, 0.35076923, 0.13538462, 0.24307692],\n",
       "       [0.27937337, 0.27154047, 0.20887728, 0.24020888],\n",
       "       [0.25832492, 0.22199798, 0.27245207, 0.24722503],\n",
       "       [0.2       , 0.25641026, 0.27692308, 0.26666667],\n",
       "       [0.25291829, 0.307393  , 0.19066148, 0.24902724],\n",
       "       [0.2992126 , 0.19422572, 0.27296588, 0.2335958 ],\n",
       "       [0.26119403, 0.27238806, 0.22014925, 0.24626866],\n",
       "       [0.37091988, 0.24925816, 0.17012859, 0.20969337],\n",
       "       [0.23842917, 0.23842917, 0.26928471, 0.25385694],\n",
       "       [0.30163934, 0.20327869, 0.26229508, 0.23278689],\n",
       "       [0.22742475, 0.26755853, 0.24749164, 0.25752508],\n",
       "       [0.2488189 , 0.26141732, 0.23937008, 0.2503937 ],\n",
       "       [0.11956522, 0.27173913, 0.31521739, 0.29347826],\n",
       "       [0.18918919, 0.27027027, 0.27027027, 0.27027027],\n",
       "       [0.22222222, 0.25185185, 0.26666667, 0.25925926],\n",
       "       [0.29090909, 0.18909091, 0.28363636, 0.23636364],\n",
       "       [0.21602787, 0.2369338 , 0.28571429, 0.26132404]])"
      ]
     },
     "execution_count": 45,
     "metadata": {},
     "output_type": "execute_result"
    }
   ],
   "source": [
    "# Performing l1 Normalization\n",
    "n_l1 = Normalizer(norm='l1')\n",
    "n_l1.fit_transform(df_bod)"
   ]
  },
  {
   "cell_type": "markdown",
   "metadata": {},
   "source": [
    "## L2 Normalizer"
   ]
  },
  {
   "cell_type": "code",
   "execution_count": 46,
   "metadata": {
    "ExecuteTime": {
     "end_time": "2020-09-21T10:06:17.818035Z",
     "start_time": "2020-09-21T10:06:17.702297Z"
    }
   },
   "outputs": [
    {
     "data": {
      "text/plain": [
       "array([[0.53438448, 0.43846931, 0.53438448, 0.48642689],\n",
       "       [0.36156077, 0.49672368, 0.57782142, 0.53727255],\n",
       "       [0.61263244, 0.49380952, 0.41665178, 0.45523065],\n",
       "       [0.42178379, 0.54583784, 0.5004695 , 0.52315367],\n",
       "       [0.44896491, 0.52538446, 0.50627957, 0.51583202],\n",
       "       [0.47226676, 0.53184169, 0.48526493, 0.50855331],\n",
       "       [0.50049615, 0.49648148, 0.5031726 , 0.49982704],\n",
       "       [0.77070118, 0.37534148, 0.36032782, 0.36783465],\n",
       "       [0.43472883, 0.27723725, 0.702855  , 0.49004612],\n",
       "       [0.56605807, 0.32019446, 0.6032235 , 0.46170898],\n",
       "       [0.48340653, 0.55329663, 0.45428565, 0.50379114],\n",
       "       [0.62395703, 0.60465939, 0.24995038, 0.42730488],\n",
       "       [0.65831783, 0.38511593, 0.48057201, 0.43284397],\n",
       "       [0.55563931, 0.45108353, 0.50784238, 0.47946295],\n",
       "       [0.44413956, 0.57954797, 0.4495559 , 0.51455193],\n",
       "       [0.54659355, 0.4242011 , 0.53824861, 0.48122485],\n",
       "       [0.47507217, 0.50270501, 0.51333302, 0.50801901],\n",
       "       [0.62699634, 0.53524078, 0.35172966, 0.44348522],\n",
       "       [0.54772256, 0.58423739, 0.36514837, 0.47469288],\n",
       "       [0.52241121, 0.55375588, 0.42524273, 0.48949931],\n",
       "       [0.55174917, 0.50185185, 0.46059061, 0.48122123],\n",
       "       [0.45840339, 0.45840339, 0.56418878, 0.51129609],\n",
       "       [0.56107441, 0.49094011, 0.46463975, 0.47778993],\n",
       "       [0.54787477, 0.53569977, 0.42612482, 0.48091229],\n",
       "       [0.5304671 , 0.46846446, 0.50979955, 0.48913201],\n",
       "       [0.54554473, 0.51437074, 0.45202277, 0.48319676],\n",
       "       [0.55121632, 0.50463466, 0.458053  , 0.48134383],\n",
       "       [0.5383819 , 0.43070552, 0.5383819 , 0.48454371],\n",
       "       [0.4941775 , 0.55300815, 0.44711298, 0.50006056],\n",
       "       [0.40796742, 0.40796742, 0.6304951 , 0.51923126],\n",
       "       [0.64893004, 0.42306868, 0.4550938 , 0.43908124],\n",
       "       [0.56183272, 0.51908457, 0.43358829, 0.47633643],\n",
       "       [0.5248146 , 0.5486698 , 0.42939376, 0.48903178],\n",
       "       [0.6017705 , 0.47989293, 0.44180619, 0.46084956],\n",
       "       [0.52486661, 0.52486661, 0.45640575, 0.49063618],\n",
       "       [0.19202384, 0.66056202, 0.46085722, 0.56070962],\n",
       "       [0.50998365, 0.57462947, 0.40942349, 0.49202648],\n",
       "       [0.76785391, 0.34770743, 0.39117086, 0.36943914],\n",
       "       [0.49975688, 0.47770878, 0.52180498, 0.49975688],\n",
       "       [0.34782695, 0.38403607, 0.67261174, 0.52832391],\n",
       "       [0.42167596, 0.4660629 , 0.57703026, 0.52154658],\n",
       "       [0.36639378, 0.58784056, 0.48315663, 0.5354986 ],\n",
       "       [0.38065519, 0.63442531, 0.4187207 , 0.52657301],\n",
       "       [0.41903399, 0.45126737, 0.59094537, 0.52110637],\n",
       "       [0.46473941, 0.51121335, 0.51121335, 0.51121335],\n",
       "       [0.50260043, 0.48715408, 0.51091769, 0.49903589],\n",
       "       [0.52713089, 0.47992514, 0.50116773, 0.49054643],\n",
       "       [0.55566853, 0.52020033, 0.43744118, 0.47882076],\n",
       "       [0.30929787, 0.54127127, 0.55673616, 0.54900372],\n",
       "       [0.44982673, 0.55184929, 0.47765106, 0.51475017],\n",
       "       [0.51184447, 0.53038956, 0.45991822, 0.49515389],\n",
       "       [0.52113745, 0.46323329, 0.52113745, 0.49218537],\n",
       "       [0.51438905, 0.49919119, 0.49100773, 0.49509946],\n",
       "       [0.43092792, 0.4514483 , 0.58483075, 0.51813952],\n",
       "       [0.61572978, 0.5736286 , 0.31049621, 0.44206241],\n",
       "       [0.30370656, 0.34893945, 0.71080258, 0.52987101],\n",
       "       [0.20668144, 0.76313149, 0.30207288, 0.53260218],\n",
       "       [0.41094465, 0.46762667, 0.58099071, 0.52430869],\n",
       "       [0.51391789, 0.43134334, 0.55411865, 0.492731  ],\n",
       "       [0.39201516, 0.57350367, 0.48638919, 0.52994643],\n",
       "       [0.54196467, 0.32989154, 0.61265572, 0.47127363],\n",
       "       [0.42939937, 0.52141352, 0.52141352, 0.52141352],\n",
       "       [0.55517305, 0.46264421, 0.49734252, 0.47999337],\n",
       "       [0.4756539 , 0.53875085, 0.4756539 , 0.50720238],\n",
       "       [0.37143371, 0.55410602, 0.51757156, 0.53583879],\n",
       "       [0.4558272 , 0.55350446, 0.47210675, 0.51280561],\n",
       "       [0.53667975, 0.51393908, 0.45936148, 0.48665028],\n",
       "       [0.37452874, 0.4860905 , 0.58171486, 0.53390268],\n",
       "       [0.43323827, 0.45437185, 0.58117329, 0.51777257],\n",
       "       [0.47760384, 0.49836922, 0.5160198 , 0.50719451],\n",
       "       [0.38846793, 0.54639649, 0.51735215, 0.53187432],\n",
       "       [0.4354032 , 0.4354032 , 0.59581491, 0.51560906],\n",
       "       [0.55751262, 0.55751262, 0.39144503, 0.47447882],\n",
       "       [0.45718276, 0.5384597 , 0.48766161, 0.51306065],\n",
       "       [0.22222222, 0.44444444, 0.66666667, 0.55555556],\n",
       "       [0.48332639, 0.42898792, 0.57484382, 0.50191587],\n",
       "       [0.30053161, 0.50661043, 0.59247661, 0.54954352],\n",
       "       [0.43421353, 0.48141065, 0.55692605, 0.51916835],\n",
       "       [0.5261862 , 0.54486737, 0.43278037, 0.48882387],\n",
       "       [0.53763114, 0.47950885, 0.49403943, 0.48677414],\n",
       "       [0.55696236, 0.43588359, 0.52063873, 0.47826116],\n",
       "       [0.46959629, 0.46959629, 0.54786234, 0.50872931],\n",
       "       [0.55792835, 0.39054985, 0.55792835, 0.4742391 ],\n",
       "       [0.57932151, 0.57932151, 0.34165115, 0.46048633],\n",
       "       [0.64757057, 0.41608606, 0.462969  , 0.43952753],\n",
       "       [0.38001149, 0.71738755, 0.29288691, 0.50513723],\n",
       "       [0.57327448, 0.50699997, 0.43741174, 0.47220586],\n",
       "       [0.74065692, 0.48170544, 0.27565803, 0.37868173],\n",
       "       [0.59886432, 0.31879394, 0.58085336, 0.44982365],\n",
       "       [0.75703184, 0.27175502, 0.46586575, 0.36881039],\n",
       "       [0.36878955, 0.4650846 , 0.60235627, 0.53372044],\n",
       "       [0.9183958 , 0.19448382, 0.25931176, 0.22689779],\n",
       "       [0.62768949, 0.4867796 , 0.40991967, 0.44834963],\n",
       "       [0.43175517, 0.42531106, 0.60574606, 0.51552856],\n",
       "       [0.52333426, 0.56981954, 0.40487178, 0.48734566],\n",
       "       [0.37991999, 0.28493999, 0.72184798, 0.50339398],\n",
       "       [0.48479552, 0.52342961, 0.48604178, 0.5047357 ],\n",
       "       [0.49216317, 0.47247665, 0.53153623, 0.50200644],\n",
       "       [0.3622328 , 0.33506534, 0.69931055, 0.51718795],\n",
       "       [0.47377478, 0.50844123, 0.50844123, 0.50844123],\n",
       "       [0.44099603, 0.52141295, 0.51492771, 0.51817033],\n",
       "       [0.55823847, 0.55823847, 0.38988084, 0.47405965],\n",
       "       [0.46511511, 0.5433203 , 0.4774633 , 0.5103918 ],\n",
       "       [0.45390909, 0.48134316, 0.54618731, 0.51376524],\n",
       "       [0.5803179 , 0.5209672 , 0.41545486, 0.46821103],\n",
       "       [0.49190458, 0.46790923, 0.53589605, 0.50190264],\n",
       "       [0.52709002, 0.58585343, 0.38107184, 0.48346264],\n",
       "       [0.60094762, 0.41707559, 0.50318151, 0.46012855],\n",
       "       [0.60827683, 0.49032841, 0.4246143 , 0.45747136],\n",
       "       [0.46530488, 0.7004063 , 0.2546932 , 0.47754975],\n",
       "       [0.38147351, 0.47002987, 0.59264635, 0.53133811],\n",
       "       [0.29928103, 0.33519476, 0.72066873, 0.52793174],\n",
       "       [0.40004082, 0.50005103, 0.55719972, 0.52862537],\n",
       "       [0.70258382, 0.37471137, 0.44496975, 0.40984056],\n",
       "       [0.59335914, 0.51690877, 0.40831449, 0.46261163],\n",
       "       [0.44051084, 0.55651726, 0.47813455, 0.5173259 ],\n",
       "       [0.46127144, 0.60190298, 0.41064409, 0.50627353],\n",
       "       [0.49563563, 0.49950778, 0.50337993, 0.50144386],\n",
       "       [0.65188504, 0.48139203, 0.39113103, 0.43626153],\n",
       "       [0.51832106, 0.48129812, 0.50598008, 0.4936391 ],\n",
       "       [0.53189256, 0.50314161, 0.47439066, 0.48876613],\n",
       "       [0.63453407, 0.39175582, 0.49659188, 0.44417385],\n",
       "       [0.6519014 , 0.47728496, 0.39579728, 0.43654112],\n",
       "       [0.55330787, 0.53574254, 0.4215679 , 0.47865522],\n",
       "       [0.45279023, 0.61960768, 0.39321257, 0.50641012],\n",
       "       [0.43360907, 0.45769847, 0.57814543, 0.51792195],\n",
       "       [0.57889653, 0.53827222, 0.3960871 , 0.46717966],\n",
       "       [0.51157675, 0.48025572, 0.51157675, 0.49591623],\n",
       "       [0.48839312, 0.48839312, 0.51891769, 0.5036554 ],\n",
       "       [0.6913073 , 0.52951197, 0.27946465, 0.40448831],\n",
       "       [0.51749488, 0.67039109, 0.25874744, 0.46456926],\n",
       "       [0.55529933, 0.53973019, 0.41517707, 0.47745363],\n",
       "       [0.51524493, 0.44278861, 0.54342238, 0.4931055 ],\n",
       "       [0.39719481, 0.50922412, 0.54996205, 0.52959308],\n",
       "       [0.49907064, 0.60656278, 0.37622249, 0.49139263],\n",
       "       [0.59099098, 0.38362572, 0.53914967, 0.46138769],\n",
       "       [0.52079528, 0.54311507, 0.43895602, 0.49103555],\n",
       "       [0.7103891 , 0.47738148, 0.3258318 , 0.40160664],\n",
       "       [0.47623532, 0.47623532, 0.53786577, 0.50705054],\n",
       "       [0.5969874 , 0.40231759, 0.51911948, 0.46071854],\n",
       "       [0.45405029, 0.53417681, 0.49411355, 0.51414518],\n",
       "       [0.49739423, 0.52257875, 0.47850584, 0.5005423 ],\n",
       "       [0.2285722 , 0.51948227, 0.60259944, 0.56104085],\n",
       "       [0.37470141, 0.53528773, 0.53528773, 0.53528773],\n",
       "       [0.44343585, 0.50256063, 0.53212302, 0.51734182],\n",
       "       [0.57417418, 0.37321322, 0.55981983, 0.46651652],\n",
       "       [0.42971708, 0.47130261, 0.5683355 , 0.51981905]])"
      ]
     },
     "execution_count": 46,
     "metadata": {},
     "output_type": "execute_result"
    }
   ],
   "source": [
    "# Performing l2 Normalization\n",
    "n_l2 = Normalizer(norm='l2')\n",
    "n_l2.fit_transform(df_bod)"
   ]
  },
  {
   "cell_type": "markdown",
   "metadata": {},
   "source": [
    "### Feature Selection and Filtering the dataset \n",
    "\n",
    "#### Variance Threshold\n",
    "It removes all features whose variance doesn't meet some threshold. By default, it removes all zero-variance features, i.e. features that have the same value in all samples."
   ]
  },
  {
   "cell_type": "code",
   "execution_count": 47,
   "metadata": {
    "ExecuteTime": {
     "end_time": "2020-09-21T10:06:18.186538Z",
     "start_time": "2020-09-21T10:06:17.825093Z"
    }
   },
   "outputs": [
    {
     "data": {
      "text/plain": [
       "array([[5.85 , 4.8  , 5.85 , 5.325],\n",
       "       [4.28 , 5.88 , 6.84 , 6.36 ],\n",
       "       [3.97 , 3.2  , 2.7  , 2.95 ]])"
      ]
     },
     "execution_count": 47,
     "metadata": {},
     "output_type": "execute_result"
    }
   ],
   "source": [
    "# Applying Variance Treshold for first three rows\n",
    "from sklearn.feature_selection import VarianceThreshold\n",
    "X = df_bod.iloc[0:3,:].values\n",
    "X\n"
   ]
  },
  {
   "cell_type": "code",
   "execution_count": 48,
   "metadata": {
    "ExecuteTime": {
     "end_time": "2020-09-21T10:06:18.239670Z",
     "start_time": "2020-09-21T10:06:18.202326Z"
    }
   },
   "outputs": [
    {
     "data": {
      "text/plain": [
       "array([[5.85 , 4.8  , 5.85 , 5.325],\n",
       "       [4.28 , 5.88 , 6.84 , 6.36 ],\n",
       "       [3.97 , 3.2  , 2.7  , 2.95 ]])"
      ]
     },
     "execution_count": 48,
     "metadata": {},
     "output_type": "execute_result"
    }
   ],
   "source": [
    "# Here we have kept the threshold as 1.5\n",
    "vt = VarianceThreshold(threshold=1.5)\n",
    "X_t = vt.fit_transform(X)\n",
    "X"
   ]
  },
  {
   "cell_type": "markdown",
   "metadata": {},
   "source": [
    "## Splitting the Features and Labels along with Testing and Training Set \n"
   ]
  },
  {
   "cell_type": "code",
   "execution_count": 49,
   "metadata": {
    "ExecuteTime": {
     "end_time": "2020-09-21T10:06:18.640860Z",
     "start_time": "2020-09-21T10:06:18.260151Z"
    }
   },
   "outputs": [],
   "source": [
    "from sklearn.model_selection import train_test_split\n",
    "# For boosting model\n",
    "\n",
    "target_name = 'target'\n",
    "df = df_bod\n",
    "X = df_bod.drop([target_name], axis=1).values\n",
    "Y = df_bod[target_name].values\n",
    "\n",
    "# Creating Test and Training set \n",
    "X_train, X_test, y_train, y_test = train_test_split(X, Y, test_size=0.3, random_state=0)"
   ]
  },
  {
   "cell_type": "markdown",
   "metadata": {},
   "source": [
    "## Principal Component Analysis\n",
    "\n",
    "* It is a machine learning method for dimensionality reduction is called Principal Component Analysis.\n",
    "* It is a method that **uses simple matrix operations from linear algebra and statistics to calculate a projection of the original data into the same number or fewer dimensions.**"
   ]
  },
  {
   "cell_type": "code",
   "execution_count": 50,
   "metadata": {
    "ExecuteTime": {
     "end_time": "2020-09-21T10:06:18.892798Z",
     "start_time": "2020-09-21T10:06:18.662430Z"
    }
   },
   "outputs": [
    {
     "data": {
      "text/plain": [
       "PCA(n_components=0.95)"
      ]
     },
     "execution_count": 50,
     "metadata": {},
     "output_type": "execute_result"
    }
   ],
   "source": [
    "from sklearn.decomposition import PCA \n",
    "\n",
    "pca = PCA(0.95)\n",
    "pca.fit(X_train)"
   ]
  },
  {
   "cell_type": "code",
   "execution_count": 51,
   "metadata": {
    "ExecuteTime": {
     "end_time": "2020-09-21T10:06:19.070546Z",
     "start_time": "2020-09-21T10:06:18.898823Z"
    }
   },
   "outputs": [
    {
     "data": {
      "text/plain": [
       "2"
      ]
     },
     "execution_count": 51,
     "metadata": {},
     "output_type": "execute_result"
    }
   ],
   "source": [
    "pca.n_components_"
   ]
  },
  {
   "cell_type": "code",
   "execution_count": 52,
   "metadata": {
    "ExecuteTime": {
     "end_time": "2020-09-21T10:06:19.666679Z",
     "start_time": "2020-09-21T10:06:19.075514Z"
    }
   },
   "outputs": [
    {
     "data": {
      "text/plain": [
       "(102, 3)"
      ]
     },
     "execution_count": 52,
     "metadata": {},
     "output_type": "execute_result"
    }
   ],
   "source": [
    "X_train.shape"
   ]
  },
  {
   "cell_type": "code",
   "execution_count": 53,
   "metadata": {
    "ExecuteTime": {
     "end_time": "2020-09-21T10:06:19.843561Z",
     "start_time": "2020-09-21T10:06:19.675832Z"
    }
   },
   "outputs": [
    {
     "data": {
      "text/plain": [
       "(102,)"
      ]
     },
     "execution_count": 53,
     "metadata": {},
     "output_type": "execute_result"
    }
   ],
   "source": [
    "y_train.shape"
   ]
  },
  {
   "cell_type": "code",
   "execution_count": 54,
   "metadata": {
    "ExecuteTime": {
     "end_time": "2020-09-21T10:06:19.932359Z",
     "start_time": "2020-09-21T10:06:19.847305Z"
    }
   },
   "outputs": [],
   "source": [
    "Xpca = pca.transform(X_train)"
   ]
  },
  {
   "cell_type": "markdown",
   "metadata": {},
   "source": [
    "## Classification Algorithm\n",
    "\n",
    "### 1. K-Nearest Neighbors (KNN)\n",
    "\n",
    "#### Here we are converting our Regression problem into Classification using given Permisible Limit "
   ]
  },
  {
   "cell_type": "code",
   "execution_count": 55,
   "metadata": {
    "ExecuteTime": {
     "end_time": "2020-09-21T10:06:20.035367Z",
     "start_time": "2020-09-21T10:06:19.936640Z"
    }
   },
   "outputs": [
    {
     "data": {
      "text/plain": [
       "array([1, 1, 1, 1, 1, 1, 1, 1, 1, 1, 1, 1, 0, 1, 1, 1, 1, 1, 1, 1, 1, 1,\n",
       "       1, 1, 1, 1, 1, 1, 1, 0, 1, 1, 1, 1, 0, 0, 1, 1, 1, 1, 0, 1, 0, 1,\n",
       "       1, 1, 1, 1, 0, 1, 1, 1, 1, 1, 1, 1, 0, 0, 1, 1, 0, 0, 1, 1, 1, 1,\n",
       "       1, 1, 1, 1, 1, 0, 1, 1, 0, 1, 1, 1, 1, 1, 1, 0, 1, 1, 1, 0, 1, 1,\n",
       "       1, 1, 0, 1, 1, 1, 1, 0, 1, 1, 1, 1, 1, 1, 1, 1, 1, 1, 1, 1, 1, 0,\n",
       "       1, 0, 1, 1, 1, 1, 1, 1, 1, 1, 1, 1, 1, 1, 1, 0, 1, 1, 1, 1, 1, 1,\n",
       "       1, 1, 1, 1, 1, 1, 1, 1, 1, 1, 0, 1, 1, 1, 1])"
      ]
     },
     "execution_count": 55,
     "metadata": {},
     "output_type": "execute_result"
    }
   ],
   "source": [
    "#spliting the training and testing data\n",
    "X= df_bod.drop('target',axis=1)\n",
    "# y= np.array([1 if df_bod['target'] > 3.0 else 0])\n",
    "\n",
    "# Converting this regression problem into classification problem \n",
    "# Here if the target value is greater than 3.0, it means that the BOD is above safety limit \n",
    "# Else it is within the permissible limit\n",
    "y = np.where(df_bod['target'] > 3.0, 1, 0)  \n",
    "y"
   ]
  },
  {
   "cell_type": "code",
   "execution_count": 56,
   "metadata": {
    "ExecuteTime": {
     "end_time": "2020-09-21T10:06:20.140503Z",
     "start_time": "2020-09-21T10:06:20.041038Z"
    }
   },
   "outputs": [],
   "source": [
    "from sklearn.model_selection import train_test_split\n",
    "X_train,X_test,y_train,y_test = train_test_split(X,y,test_size=.3,random_state=0)"
   ]
  },
  {
   "cell_type": "code",
   "execution_count": 57,
   "metadata": {
    "ExecuteTime": {
     "end_time": "2020-09-21T10:06:20.334848Z",
     "start_time": "2020-09-21T10:06:20.145412Z"
    }
   },
   "outputs": [],
   "source": [
    "# Applying the KNN on our model \n",
    "from sklearn.neighbors import KNeighborsClassifier\n",
    "\n",
    "# After the splitting the data we use the testing data for analysis\n",
    "knn  = KNeighborsClassifier(n_neighbors=3)\n",
    "knn.fit(X_train,y_train)\n",
    "\n",
    "# Using the testing data for prediction \n",
    "y_pred = knn.predict(X_test)"
   ]
  },
  {
   "cell_type": "code",
   "execution_count": 58,
   "metadata": {
    "ExecuteTime": {
     "end_time": "2020-09-21T10:06:20.554119Z",
     "start_time": "2020-09-21T10:06:20.347781Z"
    }
   },
   "outputs": [
    {
     "name": "stdout",
     "output_type": "stream",
     "text": [
      "Accuracy of KNN model on Test Set:  0.9333333333333333\n",
      "Confusion Matrix for KNN model: \n",
      "\n",
      " [[ 4  0]\n",
      " [ 3 38]]\n",
      "\n",
      "\n",
      "\n",
      " Classification report\n",
      "\n",
      "              precision    recall  f1-score   support\n",
      "\n",
      "           0       0.57      1.00      0.73         4\n",
      "           1       1.00      0.93      0.96        41\n",
      "\n",
      "    accuracy                           0.93        45\n",
      "   macro avg       0.79      0.96      0.84        45\n",
      "weighted avg       0.96      0.93      0.94        45\n",
      "\n"
     ]
    }
   ],
   "source": [
    "# Finding the Accuracy of our model along with Confusion matrix \n",
    "\n",
    "from sklearn.metrics import confusion_matrix, accuracy_score \n",
    "\n",
    "print(\"Accuracy of KNN model on Test Set: \", accuracy_score(y_test, y_pred))\n",
    "\n",
    "cnf_matrix1 = confusion_matrix(y_test, y_pred)\n",
    "\n",
    "print(\"Confusion Matrix for KNN model: \\n\\n\", cnf_matrix1)\n",
    "\n",
    "print('\\n\\n\\n Classification report\\n')\n",
    "from sklearn.metrics import classification_report\n",
    "print(classification_report(y_test,y_pred))"
   ]
  },
  {
   "cell_type": "markdown",
   "metadata": {},
   "source": [
    "### 2. Naive Bayes "
   ]
  },
  {
   "cell_type": "code",
   "execution_count": 59,
   "metadata": {
    "ExecuteTime": {
     "end_time": "2020-09-21T10:06:20.620301Z",
     "start_time": "2020-09-21T10:06:20.561676Z"
    }
   },
   "outputs": [],
   "source": [
    "# Applying the NaiveBayes on our model \n",
    "\n",
    "from sklearn.naive_bayes import GaussianNB\n",
    "\n",
    "gnb = GaussianNB()\n",
    "y_pred = gnb.fit(X_train,y_train)\n",
    "\n",
    "# Using the testing data for prediction\n",
    "y_pred = gnb.predict(X_test)"
   ]
  },
  {
   "cell_type": "code",
   "execution_count": 60,
   "metadata": {
    "ExecuteTime": {
     "end_time": "2020-09-21T10:06:20.758816Z",
     "start_time": "2020-09-21T10:06:20.630846Z"
    }
   },
   "outputs": [
    {
     "name": "stdout",
     "output_type": "stream",
     "text": [
      "Accuracy of Naive Bayes model on Test Set:  0.8222222222222222\n",
      "Confusion Matrix for Naive Bayes model: \n",
      "\n",
      " [[ 4  0]\n",
      " [ 8 33]]\n",
      "\n",
      "\n",
      "\n",
      " Classification report\n",
      "\n",
      "              precision    recall  f1-score   support\n",
      "\n",
      "           0       0.33      1.00      0.50         4\n",
      "           1       1.00      0.80      0.89        41\n",
      "\n",
      "    accuracy                           0.82        45\n",
      "   macro avg       0.67      0.90      0.70        45\n",
      "weighted avg       0.94      0.82      0.86        45\n",
      "\n"
     ]
    }
   ],
   "source": [
    "# Finding the Accuracy of our model along with Confusion matrix \n",
    "\n",
    "from sklearn.metrics import confusion_matrix, accuracy_score \n",
    "\n",
    "print(\"Accuracy of Naive Bayes model on Test Set: \", accuracy_score(y_test, y_pred))\n",
    "\n",
    "cnf_matrix2 = confusion_matrix(y_test, y_pred)\n",
    "\n",
    "\n",
    "print(\"Confusion Matrix for Naive Bayes model: \\n\\n\", cnf_matrix2)\n",
    "\n",
    "print('\\n\\n\\n Classification report\\n')\n",
    "from sklearn.metrics import classification_report\n",
    "print(classification_report(y_test,y_pred))"
   ]
  },
  {
   "cell_type": "markdown",
   "metadata": {
    "ExecuteTime": {
     "end_time": "2020-09-21T02:51:17.782841Z",
     "start_time": "2020-09-21T02:51:17.775824Z"
    }
   },
   "source": [
    "### 3. Decision Tree Classifier"
   ]
  },
  {
   "cell_type": "code",
   "execution_count": 61,
   "metadata": {
    "ExecuteTime": {
     "end_time": "2020-09-21T10:06:21.233465Z",
     "start_time": "2020-09-21T10:06:20.764988Z"
    }
   },
   "outputs": [
    {
     "data": {
      "text/plain": [
       "array([0, 1, 1, 1, 1, 1, 1, 1, 1, 1, 0, 1, 1, 1, 0, 0, 1, 0, 1, 0, 0, 0,\n",
       "       1, 1, 1, 1, 1, 0, 1, 1, 1, 1, 1, 1, 1, 1, 1, 1, 1, 1, 1, 1, 0, 1,\n",
       "       1])"
      ]
     },
     "execution_count": 61,
     "metadata": {},
     "output_type": "execute_result"
    }
   ],
   "source": [
    "# Apply Decision Tree Classifier to our model\n",
    "\n",
    "from sklearn.tree import DecisionTreeClassifier\n",
    "tree = DecisionTreeClassifier(criterion='entropy',max_depth=None,splitter='best')\n",
    "tree.fit(X_train,y_train)\n",
    "tree.predict(X_test)"
   ]
  },
  {
   "cell_type": "code",
   "execution_count": 62,
   "metadata": {
    "ExecuteTime": {
     "end_time": "2020-09-21T10:06:21.278532Z",
     "start_time": "2020-09-21T10:06:21.239543Z"
    }
   },
   "outputs": [
    {
     "name": "stdout",
     "output_type": "stream",
     "text": [
      "Accuracy of Decision Tree model on Test Set:  0.8222222222222222\n",
      "Confusion Matrix for Decision Tree model: \n",
      "\n",
      " [[ 4  0]\n",
      " [ 8 33]]\n",
      "\n",
      "\n",
      "\n",
      " Classification report\n",
      "\n",
      "              precision    recall  f1-score   support\n",
      "\n",
      "           0       0.33      1.00      0.50         4\n",
      "           1       1.00      0.80      0.89        41\n",
      "\n",
      "    accuracy                           0.82        45\n",
      "   macro avg       0.67      0.90      0.70        45\n",
      "weighted avg       0.94      0.82      0.86        45\n",
      "\n"
     ]
    }
   ],
   "source": [
    "# Finding the Accuracy of our model along with Confusion matrix \n",
    "\n",
    "from sklearn.metrics import confusion_matrix, accuracy_score \n",
    "\n",
    "print(\"Accuracy of Decision Tree model on Test Set: \", accuracy_score(y_test, y_pred))\n",
    "\n",
    "cnf_matrix3 = confusion_matrix(y_test, y_pred)\n",
    "\n",
    "print(\"Confusion Matrix for Decision Tree model: \\n\\n\", cnf_matrix3)\n",
    "\n",
    "\n",
    "\n",
    "print('\\n\\n\\n Classification report\\n')\n",
    "from sklearn.metrics import classification_report\n",
    "print(classification_report(y_test,y_pred))"
   ]
  },
  {
   "cell_type": "markdown",
   "metadata": {},
   "source": [
    "## Comparison & Analysis \n",
    "\n",
    "Accuracy for Different Models -  \n",
    "1. KNN - 93.33 % \n",
    "2. Navie Bayes - 82.22 %\n",
    "3. Decision Tree - 82.22 %\n",
    "\n",
    "With the accuracy mentioned above we can say that KNN will help us classify with more accuracy"
   ]
  },
  {
   "cell_type": "code",
   "execution_count": 63,
   "metadata": {
    "ExecuteTime": {
     "end_time": "2020-09-21T10:06:22.976429Z",
     "start_time": "2020-09-21T10:06:21.293247Z"
    }
   },
   "outputs": [
    {
     "data": {
      "text/plain": [
       "<matplotlib.axes._subplots.AxesSubplot at 0x7f42f086fcf8>"
      ]
     },
     "execution_count": 63,
     "metadata": {},
     "output_type": "execute_result"
    },
    {
     "data": {
      "image/png": "[encoded data removed]",
      "text/plain": [
       "<Figure size 1728x864 with 6 Axes>"
      ]
     },
     "metadata": {},
     "output_type": "display_data"
    }
   ],
   "source": [
    "plt.figure(figsize=(24,12))\n",
    "plt.subplot(2,3,1)\n",
    "plt.title(\"K Nearest Neighbors Confusion Matrix\")\n",
    "sns.heatmap(pd.DataFrame(cnf_matrix1), annot = True, cmap = 'RdYlBu',\n",
    "           fmt = 'g',annot_kws={\"size\": 24})\n",
    "plt.subplot(2,3,2)\n",
    "plt.title(\"Navie Bayes Confusion Matrix\")\n",
    "sns.heatmap(pd.DataFrame(cnf_matrix2), annot = True, cmap = 'RdYlBu',\n",
    "           fmt = 'g',annot_kws={\"size\": 24})\n",
    "\n",
    "plt.subplot(2,3,3)\n",
    "plt.title(\"Decision Tree Confusion Matrix\")\n",
    "sns.heatmap(pd.DataFrame(cnf_matrix3), annot = True, cmap = 'RdYlBu',fmt = 'g',annot_kws={\"size\": 24})\n"
   ]
  },
  {
   "cell_type": "markdown",
   "metadata": {},
   "source": [
    "## Clustering the data\n",
    "\n",
    "Organizing data into classes such that there is high intra-class similarity and low inter-class similarity\n",
    "In this project 2 different CLustering techniques are used -\n",
    "\n",
    "1. DBSCAN \n",
    "2. Dendogram and Agglomerative Clustering\n",
    "\n",
    "### 1. DBSCAN\n",
    "\n",
    "DBSCAN (Density-Based Spatial Clustering of Applications with Noise) is a popular learning method utilized in model building and machine learning algorithms. This is a clustering method that is used in machine learning to separate clusters of high density from clusters of low density."
   ]
  },
  {
   "cell_type": "code",
   "execution_count": 64,
   "metadata": {
    "ExecuteTime": {
     "end_time": "2020-09-21T10:06:23.023667Z",
     "start_time": "2020-09-21T10:06:22.981033Z"
    }
   },
   "outputs": [
    {
     "data": {
      "text/html": [
       "<div>\n",
       "<style scoped>\n",
       "    .dataframe tbody tr th:only-of-type {\n",
       "        vertical-align: middle;\n",
       "    }\n",
       "\n",
       "    .dataframe tbody tr th {\n",
       "        vertical-align: top;\n",
       "    }\n",
       "\n",
       "    .dataframe thead th {\n",
       "        text-align: right;\n",
       "    }\n",
       "</style>\n",
       "<table border=\"1\" class=\"dataframe\">\n",
       "  <thead>\n",
       "    <tr style=\"text-align: right;\">\n",
       "      <th></th>\n",
       "      <th>target</th>\n",
       "      <th>1</th>\n",
       "      <th>2</th>\n",
       "      <th>combined</th>\n",
       "    </tr>\n",
       "  </thead>\n",
       "  <tbody>\n",
       "    <tr>\n",
       "      <td>0</td>\n",
       "      <td>5.85</td>\n",
       "      <td>4.80</td>\n",
       "      <td>5.85</td>\n",
       "      <td>5.325</td>\n",
       "    </tr>\n",
       "    <tr>\n",
       "      <td>1</td>\n",
       "      <td>4.28</td>\n",
       "      <td>5.88</td>\n",
       "      <td>6.84</td>\n",
       "      <td>6.360</td>\n",
       "    </tr>\n",
       "    <tr>\n",
       "      <td>2</td>\n",
       "      <td>3.97</td>\n",
       "      <td>3.20</td>\n",
       "      <td>2.70</td>\n",
       "      <td>2.950</td>\n",
       "    </tr>\n",
       "    <tr>\n",
       "      <td>3</td>\n",
       "      <td>5.95</td>\n",
       "      <td>7.70</td>\n",
       "      <td>7.06</td>\n",
       "      <td>7.380</td>\n",
       "    </tr>\n",
       "    <tr>\n",
       "      <td>4</td>\n",
       "      <td>4.70</td>\n",
       "      <td>5.50</td>\n",
       "      <td>5.30</td>\n",
       "      <td>5.400</td>\n",
       "    </tr>\n",
       "    <tr>\n",
       "      <td>...</td>\n",
       "      <td>...</td>\n",
       "      <td>...</td>\n",
       "      <td>...</td>\n",
       "      <td>...</td>\n",
       "    </tr>\n",
       "    <tr>\n",
       "      <td>142</td>\n",
       "      <td>2.20</td>\n",
       "      <td>5.00</td>\n",
       "      <td>5.80</td>\n",
       "      <td>5.400</td>\n",
       "    </tr>\n",
       "    <tr>\n",
       "      <td>143</td>\n",
       "      <td>5.60</td>\n",
       "      <td>8.00</td>\n",
       "      <td>8.00</td>\n",
       "      <td>8.000</td>\n",
       "    </tr>\n",
       "    <tr>\n",
       "      <td>144</td>\n",
       "      <td>6.00</td>\n",
       "      <td>6.80</td>\n",
       "      <td>7.20</td>\n",
       "      <td>7.000</td>\n",
       "    </tr>\n",
       "    <tr>\n",
       "      <td>145</td>\n",
       "      <td>8.00</td>\n",
       "      <td>5.20</td>\n",
       "      <td>7.80</td>\n",
       "      <td>6.500</td>\n",
       "    </tr>\n",
       "    <tr>\n",
       "      <td>146</td>\n",
       "      <td>3.10</td>\n",
       "      <td>3.40</td>\n",
       "      <td>4.10</td>\n",
       "      <td>3.750</td>\n",
       "    </tr>\n",
       "  </tbody>\n",
       "</table>\n",
       "<p>147 rows × 4 columns</p>\n",
       "</div>"
      ],
      "text/plain": [
       "     target     1     2  combined\n",
       "0      5.85  4.80  5.85     5.325\n",
       "1      4.28  5.88  6.84     6.360\n",
       "2      3.97  3.20  2.70     2.950\n",
       "3      5.95  7.70  7.06     7.380\n",
       "4      4.70  5.50  5.30     5.400\n",
       "..      ...   ...   ...       ...\n",
       "142    2.20  5.00  5.80     5.400\n",
       "143    5.60  8.00  8.00     8.000\n",
       "144    6.00  6.80  7.20     7.000\n",
       "145    8.00  5.20  7.80     6.500\n",
       "146    3.10  3.40  4.10     3.750\n",
       "\n",
       "[147 rows x 4 columns]"
      ]
     },
     "execution_count": 64,
     "metadata": {},
     "output_type": "execute_result"
    }
   ],
   "source": [
    "df_bod"
   ]
  },
  {
   "cell_type": "code",
   "execution_count": 65,
   "metadata": {
    "ExecuteTime": {
     "end_time": "2020-09-21T10:06:24.094967Z",
     "start_time": "2020-09-21T10:06:23.041406Z"
    }
   },
   "outputs": [],
   "source": [
    "from sklearn.cluster import DBSCAN\n",
    "from sklearn.preprocessing import normalize\n",
    "\n",
    "A=df_bod.drop(['target'],axis=1)\n",
    "A.fillna(method = 'ffill', inplace = True )"
   ]
  },
  {
   "cell_type": "code",
   "execution_count": 66,
   "metadata": {
    "ExecuteTime": {
     "end_time": "2020-09-21T10:06:24.258530Z",
     "start_time": "2020-09-21T10:06:24.109184Z"
    }
   },
   "outputs": [],
   "source": [
    "\n",
    "scaler = StandardScaler()\n",
    "A_scaled = scaler.fit_transform(A)\n",
    "A_normalized = normalize(A_scaled)\n",
    "A_normalized = pd.DataFrame(A_normalized)\n",
    "pca = PCA (n_components = 2)\n",
    "A_principal = pca.fit_transform(A_normalized)\n",
    "A_principal = pd.DataFrame(A_principal)\n",
    "A_principal.columns = ['P1','P2']"
   ]
  },
  {
   "cell_type": "code",
   "execution_count": 67,
   "metadata": {
    "ExecuteTime": {
     "end_time": "2020-09-21T10:06:24.347270Z",
     "start_time": "2020-09-21T10:06:24.265251Z"
    }
   },
   "outputs": [
    {
     "data": {
      "text/plain": [
       "array([ 0,  0,  1,  0,  0,  1,  1,  1,  1,  1, -1, -1,  1,  0, -1,  1,  1,\n",
       "        1,  1,  1, -1,  1,  0,  1,  0,  1,  0,  1,  1,  1,  0,  1,  1,  0,\n",
       "        1,  0,  1,  1,  0, -1,  1,  0,  1, -1,  0,  1,  0,  1,  1,  0,  0,\n",
       "        0,  1, -1,  0,  0,  1,  1,  1,  0,  1,  1,  0,  0,  1,  1,  0,  0,\n",
       "       -1, -1,  0,  1,  1, -1, -1,  0,  0,  0,  0,  0,  0,  1,  1,  1,  1,\n",
       "        1,  0,  1, -1,  1,  1,  1,  0,  1,  0,  1,  1,  0, -1,  0,  1,  1,\n",
       "        0,  0,  0,  0, -1,  0,  1,  1,  0, -1,  0,  0, -1,  0,  0,  0,  1,\n",
       "        1,  1,  0,  1,  1,  1,  1,  1,  1,  0,  1,  1,  0, -1,  0,  0,  1,\n",
       "        0,  1,  1,  1,  0,  0,  0,  0,  0,  0,  1])"
      ]
     },
     "execution_count": 67,
     "metadata": {},
     "output_type": "execute_result"
    }
   ],
   "source": [
    "db=DBSCAN(eps=0.3,min_samples=10)\n",
    "db.fit(A_normalized)\n",
    "# db.fit(A_principal)\n",
    "labels=db.labels_\n",
    "labels"
   ]
  },
  {
   "cell_type": "code",
   "execution_count": 68,
   "metadata": {
    "ExecuteTime": {
     "end_time": "2020-09-21T10:06:24.871396Z",
     "start_time": "2020-09-21T10:06:24.352393Z"
    }
   },
   "outputs": [
    {
     "data": {
      "text/plain": [
       "array([0, 0, 0, 0, 0, 0, 0, 0, 0, 0, 0, 0, 0, 0, 0, 0, 0, 0, 0, 0, 0, 0,\n",
       "       0, 0, 0, 0, 0, 0, 0, 0, 0, 0, 0, 0, 0, 0, 0, 0, 0, 0, 0, 0, 0, 0,\n",
       "       0, 0, 0, 0, 0, 0, 0, 0, 0, 0, 0, 0, 0, 0, 0, 0, 0, 0, 0, 0, 0, 0,\n",
       "       0, 0, 0, 0, 0, 0, 0, 0, 0, 0, 0, 0, 0, 0, 0, 0, 0, 0, 0, 0, 0, 0,\n",
       "       0, 0, 0, 0, 0, 0, 0, 0, 0, 0, 0, 0, 0, 0, 0, 0, 0, 0, 0, 0, 0, 0,\n",
       "       0, 0, 0, 0, 0, 0, 0, 0, 0, 0, 0, 0, 0, 0, 0, 0, 0, 0, 0, 0, 0, 0,\n",
       "       0, 0, 0, 0, 0, 0, 0, 0, 0, 0, 0, 0, 0, 0, 0])"
      ]
     },
     "execution_count": 68,
     "metadata": {},
     "output_type": "execute_result"
    }
   ],
   "source": [
    "set(labels)\n",
    "db=DBSCAN(eps=0.3,min_samples=5)\n",
    "db.fit(A_principal)\n",
    "labels=db.labels_\n",
    "labels"
   ]
  },
  {
   "cell_type": "code",
   "execution_count": 69,
   "metadata": {
    "ExecuteTime": {
     "end_time": "2020-09-21T10:06:24.972036Z",
     "start_time": "2020-09-21T10:06:24.896892Z"
    }
   },
   "outputs": [
    {
     "data": {
      "text/plain": [
       "{0}"
      ]
     },
     "execution_count": 69,
     "metadata": {},
     "output_type": "execute_result"
    }
   ],
   "source": [
    "set(labels)"
   ]
  },
  {
   "cell_type": "code",
   "execution_count": 70,
   "metadata": {
    "ExecuteTime": {
     "end_time": "2020-09-21T10:06:25.648724Z",
     "start_time": "2020-09-21T10:06:24.985652Z"
    }
   },
   "outputs": [
    {
     "data": {
      "image/png": "[encoded data removed]",
      "text/plain": [
       "<Figure size 432x432 with 1 Axes>"
      ]
     },
     "metadata": {},
     "output_type": "display_data"
    }
   ],
   "source": [
    "plt.figure(figsize = (6,6))\n",
    "plt.scatter(A_principal['P1'], A_principal['P2'],c = db.fit_predict(A_principal),cmap = 'rainbow')\n",
    "plt.show()"
   ]
  },
  {
   "cell_type": "markdown",
   "metadata": {},
   "source": [
    "## 2. Agglomerative Clustering \n",
    "\n",
    "Agglomerative algorithms begin with each element as a separate cluster and merge them into successively larger clusters\n",
    "\n",
    "A dendrogram is a diagram that shows the hierarchical relationship between objects. It is most commonly created as an output from hierarchical clustering. The main use of a dendrogram is to work out the best way to allocate objects to clusters."
   ]
  },
  {
   "cell_type": "code",
   "execution_count": 71,
   "metadata": {
    "ExecuteTime": {
     "end_time": "2020-09-21T10:06:25.664022Z",
     "start_time": "2020-09-21T10:06:25.652987Z"
    }
   },
   "outputs": [],
   "source": [
    "from matplotlib import pyplot as plt\n",
    "from sklearn.cluster import AgglomerativeClustering\n",
    "import scipy.cluster.hierarchy as shc"
   ]
  },
  {
   "cell_type": "code",
   "execution_count": 72,
   "metadata": {
    "ExecuteTime": {
     "end_time": "2020-09-21T10:06:31.738955Z",
     "start_time": "2020-09-21T10:06:25.670539Z"
    }
   },
   "outputs": [
    {
     "data": {
      "image/png": "[encoded data removed]",
      "text/plain": [
       "<Figure size 720x720 with 1 Axes>"
      ]
     },
     "metadata": {},
     "output_type": "display_data"
    }
   ],
   "source": [
    "# visualizing the data using Histograms\n",
    "\n",
    "plt.figure(figsize = (10,10))\n",
    "plt.title('Visualising the data')\n",
    "Dendrogram = shc.dendrogram(shc.linkage(A_normalized , method = 'ward'))"
   ]
  },
  {
   "cell_type": "code",
   "execution_count": 73,
   "metadata": {
    "ExecuteTime": {
     "end_time": "2020-09-21T10:06:32.508531Z",
     "start_time": "2020-09-21T10:06:31.742249Z"
    }
   },
   "outputs": [
    {
     "data": {
      "image/png": "[encoded data removed]",
      "text/plain": [
       "<Figure size 432x432 with 1 Axes>"
      ]
     },
     "metadata": {},
     "output_type": "display_data"
    }
   ],
   "source": [
    "ac2 = AgglomerativeClustering(n_clusters=2)\n",
    "\n",
    "#visualizing the clustering\n",
    "plt.figure(figsize = (6,6))\n",
    "plt.scatter(A_principal['P1'], A_principal['P2'],c = ac2.fit_predict(A_principal),cmap = 'rainbow')\n",
    "\n",
    "plt.show()"
   ]
  },
  {
   "cell_type": "code",
   "execution_count": 74,
   "metadata": {
    "ExecuteTime": {
     "end_time": "2020-09-21T10:06:33.112200Z",
     "start_time": "2020-09-21T10:06:32.511622Z"
    }
   },
   "outputs": [
    {
     "data": {
      "image/png": "[encoded data removed]",
      "text/plain": [
       "<Figure size 432x432 with 1 Axes>"
      ]
     },
     "metadata": {},
     "output_type": "display_data"
    }
   ],
   "source": [
    "# When the number of clusters is set to 5\n",
    "ac2 = AgglomerativeClustering(n_clusters=5)\n",
    "\n",
    "# visualizing the clustering\n",
    "plt.figure(figsize = (6,6))\n",
    "plt.scatter(A_principal['P1'], A_principal['P2'],c = ac2.fit_predict(A_principal),cmap = 'rainbow')\n",
    "\n",
    "plt.show()"
   ]
  },
  {
   "cell_type": "markdown",
   "metadata": {},
   "source": [
    "## Ensemble \n",
    "\n",
    "* Ensembles can give you a boost in accuracy on your dataset\n",
    "* The goal of ensemble methods is to combine the predictions of several base estimators built with a given learning algorithm in order to improve generalizability / robustness over a single estimator."
   ]
  },
  {
   "cell_type": "markdown",
   "metadata": {},
   "source": [
    "## 1. Bagging Method (Random Forest Classifier)"
   ]
  },
  {
   "cell_type": "code",
   "execution_count": 75,
   "metadata": {
    "ExecuteTime": {
     "end_time": "2020-09-21T10:06:33.683680Z",
     "start_time": "2020-09-21T10:06:33.114926Z"
    }
   },
   "outputs": [],
   "source": [
    "from sklearn import model_selection\n",
    "from sklearn.ensemble import VotingClassifier\n",
    "from sklearn.svm import SVC"
   ]
  },
  {
   "cell_type": "code",
   "execution_count": 76,
   "metadata": {
    "ExecuteTime": {
     "end_time": "2020-09-21T10:06:33.756709Z",
     "start_time": "2020-09-21T10:06:33.696118Z"
    }
   },
   "outputs": [
    {
     "data": {
      "text/plain": [
       "array([1, 1, 1, 1, 1, 1, 1, 1, 1, 1, 1, 1, 0, 1, 1, 1, 1, 1, 1, 1, 1, 1,\n",
       "       1, 1, 1, 1, 1, 1, 1, 0, 1, 1, 1, 1, 0, 0, 1, 1, 1, 1, 0, 1, 0, 1,\n",
       "       1, 1, 1, 1, 0, 1, 1, 1, 1, 1, 1, 1, 0, 0, 1, 1, 0, 0, 1, 1, 1, 1,\n",
       "       1, 1, 1, 1, 1, 0, 1, 1, 0, 1, 1, 1, 1, 1, 1, 0, 1, 1, 1, 0, 1, 1,\n",
       "       1, 1, 0, 1, 1, 1, 1, 0, 1, 1, 1, 1, 1, 1, 1, 1, 1, 1, 1, 1, 1, 0,\n",
       "       1, 0, 1, 1, 1, 1, 1, 1, 1, 1, 1, 1, 1, 1, 1, 0, 1, 1, 1, 1, 1, 1,\n",
       "       1, 1, 1, 1, 1, 1, 1, 1, 1, 1, 0, 1, 1, 1, 1])"
      ]
     },
     "execution_count": 76,
     "metadata": {},
     "output_type": "execute_result"
    }
   ],
   "source": [
    "#spliting the training and testing data\n",
    "X= df_bod.drop('target',axis=1)\n",
    "\n",
    "# Converting this regression problem into classification problem \n",
    "# Here if the target value is greater than 3.0, it means that the BOD is above safety limit \n",
    "# Else it is within the permissible limit\n",
    "y = np.where(df_bod['target'] > 3.0, 1, 0)  \n",
    "y"
   ]
  },
  {
   "cell_type": "code",
   "execution_count": 77,
   "metadata": {
    "ExecuteTime": {
     "end_time": "2020-09-21T10:06:34.218383Z",
     "start_time": "2020-09-21T10:06:33.768221Z"
    }
   },
   "outputs": [],
   "source": [
    "from sklearn.ensemble import RandomForestClassifier\n",
    "\n",
    "rf = RandomForestClassifier()\n",
    "rf.fit(X_train, y_train)\n",
    "y_pred = rf.predict(X_test)"
   ]
  },
  {
   "cell_type": "code",
   "execution_count": 78,
   "metadata": {
    "ExecuteTime": {
     "end_time": "2020-09-21T10:06:34.244427Z",
     "start_time": "2020-09-21T10:06:34.223205Z"
    }
   },
   "outputs": [
    {
     "name": "stdout",
     "output_type": "stream",
     "text": [
      "The accuracy of Random Forest Classifier on Test set:  0.9333333333333333\n",
      "Confusion Matrix for Decision Tree model: \n",
      "\n",
      " [[ 4  0]\n",
      " [ 3 38]]\n",
      "\n",
      "\n",
      "\n",
      " Classification report\n",
      "\n",
      "              precision    recall  f1-score   support\n",
      "\n",
      "           0       0.57      1.00      0.73         4\n",
      "           1       1.00      0.93      0.96        41\n",
      "\n",
      "    accuracy                           0.93        45\n",
      "   macro avg       0.79      0.96      0.84        45\n",
      "weighted avg       0.96      0.93      0.94        45\n",
      "\n"
     ]
    }
   ],
   "source": [
    "print(\"The accuracy of Random Forest Classifier on Test set: \", accuracy_score(y_test, y_pred))\n",
    "\n",
    "cnf_matrix3 = confusion_matrix(y_test, y_pred)\n",
    "\n",
    "print(\"Confusion Matrix for Decision Tree model: \\n\\n\", cnf_matrix3)\n",
    "\n",
    "\n",
    "\n",
    "print('\\n\\n\\n Classification report\\n')\n",
    "from sklearn.metrics import classification_report\n",
    "print(classification_report(y_test,y_pred))"
   ]
  },
  {
   "cell_type": "markdown",
   "metadata": {},
   "source": [
    "## 2. Boosting Method (Adaboost)"
   ]
  },
  {
   "cell_type": "code",
   "execution_count": 79,
   "metadata": {
    "ExecuteTime": {
     "end_time": "2020-09-21T10:06:34.376310Z",
     "start_time": "2020-09-21T10:06:34.250755Z"
    }
   },
   "outputs": [
    {
     "name": "stdout",
     "output_type": "stream",
     "text": [
      "Accuracy: 0.8888888888888888\n"
     ]
    }
   ],
   "source": [
    "from sklearn.ensemble import AdaBoostClassifier\n",
    "from sklearn import metrics\n",
    "\n",
    "abc =AdaBoostClassifier(n_estimators=10)\n",
    "model=abc.fit(X_train,y_train)\n",
    "y_pred=model.predict(X_test)\n",
    "print(\"Accuracy:\",metrics.accuracy_score(y_test,y_pred))"
   ]
  },
  {
   "cell_type": "code",
   "execution_count": 80,
   "metadata": {
    "ExecuteTime": {
     "end_time": "2020-09-21T10:06:34.501499Z",
     "start_time": "2020-09-21T10:06:34.379428Z"
    }
   },
   "outputs": [
    {
     "name": "stdout",
     "output_type": "stream",
     "text": [
      "Accuracy: 0.9111111111111111\n"
     ]
    }
   ],
   "source": [
    "from sklearn.svm import SVC\n",
    "svc=SVC(probability=True,kernel='linear')\n",
    "abc =AdaBoostClassifier(n_estimators=10, base_estimator=svc)\n",
    "model=abc.fit(X_train,y_train)\n",
    "y_pred=model.predict(X_test)\n",
    "print(\"Accuracy:\",metrics.accuracy_score(y_test,y_pred))"
   ]
  },
  {
   "cell_type": "markdown",
   "metadata": {},
   "source": [
    "The Adaboost Model also gives us a better accuracy than most models - 91.11 %   \n",
    "Still Random Forest Classifier performs the best in giving us an accuracy of 93.33 % "
   ]
  },
  {
   "cell_type": "markdown",
   "metadata": {},
   "source": [
    "## Conclusion -\n",
    "\n",
    "Thus using different machine technique we have analysed the Biochemical Oxygen Demand dataset.\n",
    "\n",
    "\n",
    "We achieved highest accuracy in **K-Nearest Neighbor classification & Random Forest Classification model of 93.33%**. Also **Adaboost Model came second with 91.11% accuracy for our model.** \n",
    "\n",
    "We performed various Data Analysis and EDA Processes. Also we used Sklearn Clustering techniques like DBSCAN and Agglomerative Clustering for our model.\n",
    "\n",
    "Overall we understood how using a dataset such as this, we could classify and predict the Permissible Biochemical Oxygen Demand in river water."
   ]
  },
  {
   "cell_type": "markdown",
   "metadata": {},
   "source": [
    "## References \n",
    "\n",
    "* **State Water Resources Agency of Ukraine**\n",
    "* **Portal (https://data.gov.ua/) for providing data of water monitoring is which used for this model**\n",
    "* https://www.kaggle.com/vbmokin/prediction-bod-in-river-water?select=test.csv\n"
   ]
  }
 ],
 "metadata": {
  "kernelspec": {
   "display_name": "Python 3.6.9 64-bit",
   "language": "python",
   "name": "python36964bit7a322f51a2a84a018a4a07077b0b4880"
  },
  "language_info": {
   "codemirror_mode": {
    "name": "ipython",
    "version": 3
   },
   "file_extension": ".py",
   "mimetype": "text/x-python",
   "name": "python",
   "nbconvert_exporter": "python",
   "pygments_lexer": "ipython3",
   "version": "3.6.9"
  },
  "toc": {
   "base_numbering": 1,
   "nav_menu": {},
   "number_sections": false,
   "sideBar": true,
   "skip_h1_title": false,
   "title_cell": "Table of Contents",
   "title_sidebar": "Contents",
   "toc_cell": false,
   "toc_position": {
    "height": "calc(100% - 180px)",
    "left": "10px",
    "top": "150px",
    "width": "165px"
   },
   "toc_section_display": true,
   "toc_window_display": false
  }
 },
 "nbformat": 4,
 "nbformat_minor": 4
}
